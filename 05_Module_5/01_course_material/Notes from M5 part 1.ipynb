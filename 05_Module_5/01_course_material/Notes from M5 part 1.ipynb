{
 "cells": [
  {
   "cell_type": "markdown",
   "id": "b6492b60-9a79-4d72-af39-baae0ec7b03a",
   "metadata": {},
   "source": [
    "# Assignment module 5"
   ]
  },
  {
   "cell_type": "markdown",
   "id": "b553349f-47fd-475b-9df6-6c96d88ffad2",
   "metadata": {},
   "source": [
    "Report (4-5 pages) on the project of a peer. \n",
    "\n",
    "1-2 pages about what the project is about\n",
    "\n",
    "1 page on what could be improved \n",
    "\n",
    "1 page about what is good\n",
    "\n",
    "We  should check the objective, if the data is enough, is it on GitHub, is it well documented?\n",
    "\n",
    "On Dec 15th we'll also speak about the final project. \n",
    "\n",
    "Due date: end of December "
   ]
  },
  {
   "cell_type": "markdown",
   "id": "03b3fed3-1d36-4380-950b-b36bf1fd4b9e",
   "metadata": {},
   "source": [
    "NOTE: as of today the report would be about our peer plus the idea for final project, but probably this would change and include the peer consulting only."
   ]
  },
  {
   "cell_type": "markdown",
   "id": "dfdc5484-8be0-45c6-9608-81b3bc97f944",
   "metadata": {},
   "source": [
    "### Group 1 - Selected reading"
   ]
  },
  {
   "cell_type": "markdown",
   "id": "76313135-ff92-4125-a63a-02a5f5717310",
   "metadata": {},
   "source": [
    "Patricio: patriciobecerrav@gmail.com\n",
    "\n",
    "Ramona:r.herz@posteo.de\n",
    "\n",
    "schaller-s@hotmail.com\n",
    "\n",
    "avisek.regmi@gmail.com"
   ]
  },
  {
   "cell_type": "markdown",
   "id": "31148a06-f58f-4b67-ac7d-9a30ba3d6763",
   "metadata": {},
   "source": [
    "TASK: chapter 1-2 Paper #1 from ILIAS, deliver some slides, due: 1st Dec 2023"
   ]
  },
  {
   "cell_type": "code",
   "execution_count": null,
   "id": "735476b3-06f6-4796-8ae9-6ddd31e3405e",
   "metadata": {},
   "outputs": [],
   "source": []
  }
 ],
 "metadata": {
  "kernelspec": {
   "display_name": "Python 3 (ipykernel)",
   "language": "python",
   "name": "python3"
  },
  "language_info": {
   "codemirror_mode": {
    "name": "ipython",
    "version": 3
   },
   "file_extension": ".py",
   "mimetype": "text/x-python",
   "name": "python",
   "nbconvert_exporter": "python",
   "pygments_lexer": "ipython3",
   "version": "3.11.4"
  }
 },
 "nbformat": 4,
 "nbformat_minor": 5
}
