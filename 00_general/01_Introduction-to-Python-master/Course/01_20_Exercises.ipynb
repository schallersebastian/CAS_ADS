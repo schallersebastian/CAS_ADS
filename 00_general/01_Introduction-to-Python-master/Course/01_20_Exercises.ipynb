{
  "cells": [
    {
      "cell_type": "markdown",
      "metadata": {
        "id": "URTJW7skneYe"
      },
      "source": [
        "<!--NAVIGATION-->\n",
        "< [Appendix: Figure Code](01_19-Figures.ipynb) | [Contents](Index.ipynb) | [Solutions](01_21-Solutions.ipynb)>"
      ]
    },
    {
      "cell_type": "markdown",
      "metadata": {
        "id": "YqbvLbdwneYf"
      },
      "source": [
        "# Exercises"
      ]
    },
    {
      "cell_type": "markdown",
      "metadata": {
        "id": "8UFP628GneYg"
      },
      "source": [
        "### Exercise 1\n",
        "\n",
        "Observe the syntax of the following code and comment on it line by line."
      ]
    },
    {
      "cell_type": "code",
      "execution_count": null,
      "metadata": {
        "id": "_25veg5TneYg"
      },
      "outputs": [],
      "source": [
        "x = 7\n",
        "if x % 2 == 0:\n",
        "    print(x, 'is even.')\n",
        "    x /= 2\n",
        "    print('The half of x is', x)"
      ]
    },
    {
      "cell_type": "markdown",
      "metadata": {
        "id": "A9c_jueYneYh"
      },
      "source": [
        "Compare the previous code to the following one. What do you observe as a syntactical difference? Does that impact the outcome of execution?"
      ]
    },
    {
      "cell_type": "code",
      "execution_count": null,
      "metadata": {
        "id": "uSLl93BineYi"
      },
      "outputs": [],
      "source": [
        "x = 7\n",
        "if x % 2 == 0:\n",
        "    print(x, 'is even.')\n",
        "x /= 2\n",
        "print('The half of x is', x)"
      ]
    },
    {
      "cell_type": "markdown",
      "metadata": {
        "id": "dcIXrICPneYi"
      },
      "source": [
        "### Exercise 2\n",
        "\n",
        "Try out the following code snippets and compare them:"
      ]
    },
    {
      "cell_type": "code",
      "execution_count": null,
      "metadata": {
        "id": "uDbdnmbkneYj"
      },
      "outputs": [],
      "source": [
        "x = ['apples', 'pears']\n",
        "y = x\n",
        "y.append('grapes')\n",
        "print('x =', x)\n",
        "print('y =', y)"
      ]
    },
    {
      "cell_type": "code",
      "execution_count": null,
      "metadata": {
        "id": "fMfdmEWtneYj"
      },
      "outputs": [],
      "source": [
        "x = ['apples', 'pears']\n",
        "y = x\n",
        "x.append('grapes')\n",
        "print('x =', x)\n",
        "print('y =', y)"
      ]
    },
    {
      "cell_type": "code",
      "execution_count": null,
      "metadata": {
        "id": "efhN_rikneYk"
      },
      "outputs": [],
      "source": [
        "x = 5\n",
        "y = x\n",
        "x = x + 2\n",
        "print('x =', x)\n",
        "print('y =', y)"
      ]
    },
    {
      "cell_type": "code",
      "execution_count": null,
      "metadata": {
        "id": "lZ5YR5kjneYk"
      },
      "outputs": [],
      "source": [
        "x = ['apples', 'pears']\n",
        "y = x\n",
        "x = [1, 2]\n",
        "print('x =', x)\n",
        "print('y =', y)"
      ]
    },
    {
      "cell_type": "markdown",
      "metadata": {
        "id": "CK88jSKzneYl"
      },
      "source": [
        "### Exercise 3\n",
        "\n",
        "By combining operations test whether the value of a previously defined variable `x`\n",
        "1. is in the interval (3, 7],\n",
        "2. is even,\n",
        "3. gives a remainder of 3 after division by 4,\n",
        "and print out the result of your tests."
      ]
    },
    {
      "cell_type": "markdown",
      "metadata": {
        "id": "6gUckbyjneYl"
      },
      "source": [
        "### Exercise 4\n",
        "\n",
        "Calculate the maximal value of a house for which you could get a loan from a bank in Switzerland by using the following formula\n",
        "\n",
        "$$V = \\frac{(B-U)\\cdot\\frac{1}{r}\\cdot\\left(1-\\frac{1}{(1+r)^n}\\right)}{\\frac{2}{15}+\\frac{2}{3}\\cdot\\left(1-\\frac{1}{(1+r)^n}\\right)},$$\n",
        "where $B$ is one third of your yearly income, $U$ stands for the yearly utility costs, $r$ is the yearly interest rate (for worst scenario banks use 5%) and $n$ is the number of years that you have until pension, assuming that at the time of the purchase you can pay for 20% of the house from your savings."
      ]
    },
    {
      "cell_type": "markdown",
      "metadata": {
        "id": "Ggbfyo-oneYm"
      },
      "source": [
        "### Exercise 5\n",
        "\n",
        "Explain the following code snippets:\n",
        "\n",
        "a)"
      ]
    },
    {
      "cell_type": "code",
      "execution_count": null,
      "metadata": {
        "id": "9F5GBBHcneYn"
      },
      "outputs": [],
      "source": [
        "linetypes = {'solid': '-', 'dashed': '--', 'dash-dotted': '-.', 'dotted': ':'}\n",
        "print(linetypes)\n",
        "del linetypes['solid']\n",
        "print(linetypes)\n",
        "del linetypes\n",
        "print(linetypes)"
      ]
    },
    {
      "cell_type": "markdown",
      "metadata": {
        "id": "imcCCGNHneYn"
      },
      "source": [
        "b)"
      ]
    },
    {
      "cell_type": "code",
      "execution_count": null,
      "metadata": {
        "id": "7u3otfH_neYn"
      },
      "outputs": [],
      "source": [
        "ages_of_wine = [1, 2, 1, 2, 3, 3, 1, 1, 4, 4, 9, 8, 8, 9]\n",
        "print(ages_of_wine)\n",
        "del ages_of_wine[7:10]\n",
        "print(ages_of_wine)"
      ]
    },
    {
      "cell_type": "markdown",
      "metadata": {
        "id": "6SV4AF8lneYo"
      },
      "source": [
        "c)"
      ]
    },
    {
      "cell_type": "code",
      "execution_count": null,
      "metadata": {
        "id": "nWdFS6o4neYo"
      },
      "outputs": [],
      "source": [
        "ages_of_wine = (1, 2, 1, 2, 3, 3, 1, 1, 4, 4, 9, 8, 8, 9)\n",
        "print(ages_of_wine)\n",
        "del ages_of_wine[7:10]\n",
        "print(ages_of_wine)"
      ]
    },
    {
      "cell_type": "code",
      "execution_count": null,
      "metadata": {
        "id": "D8uiMTgvneYo"
      },
      "outputs": [],
      "source": [
        "del ages_of_wine\n",
        "print(ages_of_wine)"
      ]
    },
    {
      "cell_type": "markdown",
      "metadata": {
        "id": "yKuqAhMXneYo"
      },
      "source": [
        "### Exercise 6\n",
        "\n",
        "In our decimal system we are used to the property that we can multiply a number by 10 by adding a 0 digit to the end of the number.\n",
        "\n",
        "Check on examples whether a similar property holds in the binary system as well, namely whether multiplication by two can be performed on the binary form of numbers by writing a digit 0 to the end of the number."
      ]
    },
    {
      "cell_type": "markdown",
      "metadata": {
        "id": "T0n42dYAneYo"
      },
      "source": [
        "### Exercise 7\n",
        "\n",
        "Print out every second element of a list."
      ]
    },
    {
      "cell_type": "markdown",
      "metadata": {
        "id": "iiQ0OZHgneYp"
      },
      "source": [
        "### Exercise 8\n",
        "\n",
        "* Determine the maximal element of a list of real numbers.\n",
        "* Determine the maximal element of a list and the position where is this maximum reached."
      ]
    },
    {
      "cell_type": "markdown",
      "metadata": {
        "id": "e_H_TcqeneYp"
      },
      "source": [
        "### Exercise 9\n",
        "\n",
        "1. Create a dictionary, which contains as keys all the elements of a list and as values the corresponding number of occurences in the list.\n",
        "For example for the list\n",
        "```L = [1, 2, 3, 2]```\n",
        "the corresponding dictionary would be\n",
        "```{1:1, 2: 2, 3:1}```.\n",
        "\n",
        "2. Knowing that the year started with a day of Monday, determine on what day of the week would fall the 100-th, 243-th, 301-th day of the year."
      ]
    },
    {
      "cell_type": "markdown",
      "metadata": {
        "id": "8FZVPq5nneYp"
      },
      "source": [
        "### Exercise 10\n",
        "\n",
        "We consider three categories of major allergy factors: milk, gluten and nuts. From all the participants of a dietary seminar we got the information whether they are allergic to these individual factors. We denote the participants by $P_1, P_2, \\ldots, P_{30}$. The collected information is summarized in the following code:"
      ]
    },
    {
      "cell_type": "code",
      "execution_count": null,
      "metadata": {
        "id": "TMbx3LqSneYp"
      },
      "outputs": [],
      "source": [
        "milk = {'P1', 'P3', 'P7', 'P10', 'P18'} #people being allergic to milk\n",
        "gluten = {'P1', 'P10', 'P5', 'P22', 'P18'} #people being allergic to milk\n",
        "nuts = {'P5', 'P10', 'P27'} #people being allergic to nuts"
      ]
    },
    {
      "cell_type": "markdown",
      "metadata": {
        "id": "Zpp11KN-neYq"
      },
      "source": [
        "1. Who is allergic to milk, gluten and nuts, as well?\n",
        "\n",
        "2. Determine with set operations, which participants are allergic to exactly one factor."
      ]
    },
    {
      "cell_type": "markdown",
      "metadata": {
        "id": "RZSxW5GyneYq"
      },
      "source": [
        "### Exercise 11\n",
        "\n",
        "1. Write code which checks whether a given number ```a``` is a multiple of ```b``` and write your result as a text message.\n",
        "2. A leap year is a year of 366 days in the Gregorian calendar. It is a year whose number is exactly divisible by 4, or, in case of the final year of a century, by 400. Determine whether a given year is leapyear or not."
      ]
    },
    {
      "cell_type": "markdown",
      "metadata": {
        "id": "2DudDTfrneYq"
      },
      "source": [
        "### Exercise 12\n",
        "\n",
        "Determine the starting position and ending position of the longest sequence of consecutive 0-s in a given list."
      ]
    },
    {
      "cell_type": "markdown",
      "metadata": {
        "id": "Ozxf7B4RneYq"
      },
      "source": [
        "### Exercise 13\n",
        "\n",
        "Turn back to the exercises in Chapters about Control flow statements (Chapter 6) and Built-in data structures (Cahpter 7) and create out of them meaningful functions."
      ]
    },
    {
      "cell_type": "markdown",
      "metadata": {
        "id": "EbMWcKeTneYq"
      },
      "source": [
        "### Exercise 14\n",
        "\n",
        "1. Let's come back to one of our previous exercise contexts. Create a function out of one of them and raise an error in this function.\n",
        "2. Call the above function for an input, which will raise an exception, catch the error that you raised in your function and redefine the reaction to it."
      ]
    },
    {
      "cell_type": "markdown",
      "metadata": {
        "id": "aXGj__HVneYr"
      },
      "source": [
        "### Exercise 15\n",
        "\n",
        "Consider whether enumerate could be used to determine all the positions in a list, which contain the maximal element."
      ]
    },
    {
      "cell_type": "markdown",
      "metadata": {
        "id": "YoVyJYPKneYr"
      },
      "source": [
        "### Exercise 16\n",
        "\n",
        "A perfect number is a positive integer that is equal to the sum of its positive divisors, excluding the number itself. Write a function which determines whether a number is perfect. Print out all the perfect numbers until 1000."
      ]
    },
    {
      "cell_type": "markdown",
      "metadata": {
        "id": "E-Ap0OXMneYr"
      },
      "source": [
        "### Exercise 17\n",
        "\n",
        "Rewrite the `[n ** 2 for n in range(12)]` code block with `map` and `lambda`."
      ]
    },
    {
      "cell_type": "markdown",
      "metadata": {
        "id": "jYO0Fv1lneYr"
      },
      "source": [
        "### Exercise 18\n",
        "\n",
        "Rewrite `[val for val in range(20) if val % 3 > 0]` with `filter` and `lambda`."
      ]
    },
    {
      "cell_type": "markdown",
      "metadata": {
        "id": "NWp_DMM5neYr"
      },
      "source": [
        "### Exercise 19\n",
        "\n",
        "Use string manipulation to write a function, which returns those rows of the input text `t`, which contain the string `s`.\n",
        "\n",
        "Search with this function for the word \"translated\" in the haikus of Fodor Ákos."
      ]
    },
    {
      "cell_type": "code",
      "execution_count": null,
      "metadata": {
        "id": "rKTOzkX3neYr"
      },
      "outputs": [],
      "source": [
        "mytext = \"\"\"WORKSHOP HAIKU\n",
        "translated by Éva Antal\n",
        "\n",
        "Perhaps do not even touch it.\n",
        "Just look at it, look at it,\n",
        "until it becomes beautiful.\n",
        "\n",
        "\n",
        "\n",
        "TEST QUESTION FOR EVERY DAY\n",
        "translated by Éva Antal\n",
        "\n",
        "Do you still see\n",
        "what you look at, or you only\n",
        "know: \"there\" \"it\" \"is\"?\n",
        "\n",
        "\n",
        "\n",
        "FROM THE BEST OF INTENTIONS\n",
        "translated by Gábor G. Gyukics and Michael Castro\n",
        "\n",
        "fall asleep;\n",
        "die the same way a child\n",
        "bites into an apple.\n",
        "\n",
        "\n",
        "\n",
        "MEETING\n",
        "translated by Gábor G. Gyukics and Michael Castro\n",
        "\n",
        "I plan it as a farewell\n",
        "\n",
        "\n",
        "\n",
        "THE HAIKU\n",
        "translated by Tamás Révbíró\n",
        "\n",
        "in front of my feet\n",
        "a bird sat, and then took flight.\n",
        "Now I'm heavier.\n",
        "\n",
        "\n",
        "\n",
        "AXIOM\n",
        "translated by Tamás Révbíró\n",
        "\n",
        "You should try and help\n",
        "everything to be the way\n",
        "it is anyway.\n",
        "\n",
        "\n",
        "\n",
        "ECHO ON EPICTETUS\n",
        "translated by Tamás Révbíró\n",
        "\n",
        "Don't say, \"I lost it\",\n",
        "about anything. Rather\n",
        "say, \"I gave it back\".\n",
        "\n",
        "\n",
        "\n",
        "AXIOM\n",
        "translated by Tamás Révbíró\n",
        "\n",
        "Parents and killers:\n",
        "almost-innocent servants.\n",
        "They just execute.\n",
        "\n",
        "\n",
        "\n",
        "ZENsation\n",
        "translated by Tamás Révbíró\n",
        "\n",
        "Look, the snow gives body to the wind!\n",
        "\n",
        "\n",
        "\n",
        "DISILLUSIONIST\n",
        "translated by Tamás Révbíró\n",
        "\n",
        "Why should I travel\n",
        "when I can be a stranger\n",
        "right here, standing still?\"\"\""
      ]
    },
    {
      "cell_type": "markdown",
      "metadata": {
        "id": "YulcmX6fneYr"
      },
      "source": [
        "### Exercise 20\n",
        "\n",
        "Compare the outcome of the following two code snippets."
      ]
    },
    {
      "cell_type": "code",
      "execution_count": null,
      "metadata": {
        "id": "n7zPDWnVneYs"
      },
      "outputs": [],
      "source": [
        "import csv\n",
        "\n",
        "with open('employee_file.csv', mode='w') as employee_file:\n",
        "    employee_writer = csv.writer(employee_file, delimiter=',', quotechar='\"', quoting=csv.QUOTE_MINIMAL)\n",
        "\n",
        "    employee_writer.writerow(['John Smith', 'Accounting', 'November', '27'])\n",
        "    employee_writer.writerow(['Erica Meyers', 'IT', 'March', '31'])"
      ]
    },
    {
      "cell_type": "code",
      "execution_count": null,
      "metadata": {
        "id": "Xb1pooInneYs"
      },
      "outputs": [],
      "source": [
        "import csv\n",
        "\n",
        "with open('employee_file2.csv', mode='w') as csv_file:\n",
        "    fieldnames = ['emp_name', 'dept', 'birth_month', 'age']\n",
        "    writer = csv.DictWriter(csv_file, fieldnames=fieldnames)\n",
        "\n",
        "    writer.writeheader()\n",
        "    writer.writerow({'emp_name': 'John Smith', 'dept': 'Accounting', 'birth_month': 'November', 'age': '27'})\n",
        "    writer.writerow({'emp_name': 'Erica Meyers', 'dept': 'IT', 'birth_month': 'March', 'age': 31})"
      ]
    },
    {
      "cell_type": "markdown",
      "metadata": {
        "id": "EVAgA63PneYs"
      },
      "source": [
        "Adjust one of the codes in such a way to obtain the same output."
      ]
    },
    {
      "cell_type": "markdown",
      "metadata": {
        "id": "Fb_nXAITneYs"
      },
      "source": [
        "<!--NAVIGATION-->\n",
        "< [Appendix: Figure Code](01_19-Figures.ipynb) | [Contents](Index.ipynb) | [Solutions](01_21-Solutions.ipynb)>"
      ]
    }
  ],
  "metadata": {
    "kernelspec": {
      "display_name": "Python 3",
      "language": "python",
      "name": "python3"
    },
    "language_info": {
      "codemirror_mode": {
        "name": "ipython",
        "version": 3
      },
      "file_extension": ".py",
      "mimetype": "text/x-python",
      "name": "python",
      "nbconvert_exporter": "python",
      "pygments_lexer": "ipython3",
      "version": "3.6.10"
    },
    "colab": {
      "provenance": []
    }
  },
  "nbformat": 4,
  "nbformat_minor": 0
}