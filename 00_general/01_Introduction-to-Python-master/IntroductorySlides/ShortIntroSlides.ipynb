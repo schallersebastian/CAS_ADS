{
 "cells": [
  {
   "cell_type": "markdown",
   "metadata": {
    "slideshow": {
     "slide_type": "slide"
    }
   },
   "source": [
    "# Introduction to Python\n"
   ]
  },
  {
   "cell_type": "markdown",
   "metadata": {
    "slideshow": {
     "slide_type": "-"
    }
   },
   "source": [
    "Dr. Kinga Sipos"
   ]
  },
  {
   "cell_type": "markdown",
   "metadata": {
    "slideshow": {
     "slide_type": "skip"
    }
   },
   "source": [
    "<img src=\"ImagesVideos/Skills2.png\">"
   ]
  },
  {
   "cell_type": "markdown",
   "metadata": {
    "slideshow": {
     "slide_type": "slide"
    }
   },
   "source": [
    "# Organisational aspects\n",
    "\n",
    "* 1-day-course: 14. August\n",
    "\n",
    "* Location: UniTobler, room F-123\n",
    "\n",
    "* Program: 9-17 o'clock\n",
    "\n",
    "* Lunch break: 12.30-13.30 o'clock\n"
   ]
  },
  {
   "cell_type": "markdown",
   "metadata": {
    "slideshow": {
     "slide_type": "skip"
    }
   },
   "source": [
    "# Short introduction round"
   ]
  },
  {
   "cell_type": "markdown",
   "metadata": {
    "slideshow": {
     "slide_type": "skip"
    }
   },
   "source": [
    "Open [this Google Document](https://docs.google.com/document/d/1ZfF4BqaPKnjcqxlynT0qQ3cMa2KhS3vkGMejl28MZyM/edit?usp=sharing) to share with us your:\n",
    "* Name\n",
    "* Background\n",
    "* Motivation and/or Expectation"
   ]
  },
  {
   "cell_type": "markdown",
   "metadata": {
    "slideshow": {
     "slide_type": "slide"
    }
   },
   "source": [
    "# Why Python?\n",
    "\n",
    "- open source\n",
    "- readable, writable user friendly code (Python fans say: \"beautiful\", \"intuitive\", \"fun\")\n",
    "- a big community contributes to its development and extension -> many frameworks and tools exist\n",
    "- widely used also among scientists for data analysis, machine learning\n",
    "\n",
    "# Where is it used?\n",
    "- Instagram\n",
    "- Google (\"Python where we can, C++ where we must\")\n",
    "- Spotify, Netflix\n",
    "- Uber\n",
    "- Dropbox\n",
    "- Pinterest\n"
   ]
  },
  {
   "cell_type": "markdown",
   "metadata": {
    "slideshow": {
     "slide_type": "slide"
    }
   },
   "source": [
    "# The history of Python\n",
    "[Short interview with the creator of Python](https://www.youtube.com/watch?v=J0Aq44Pze-w)\n",
    "\n",
    "\n",
    "[2018 Fellow Award Honoree Introduction](https://www.youtube.com/watch?v=cL_p6zrKQNU) (3 min 22 sec - 5 min)"
   ]
  },
  {
   "cell_type": "markdown",
   "metadata": {
    "slideshow": {
     "slide_type": "slide"
    }
   },
   "source": [
    "# Monty Python?"
   ]
  },
  {
   "cell_type": "markdown",
   "metadata": {
    "slideshow": {
     "slide_type": "skip"
    }
   },
   "source": [
    "<img src=\"ImagesVideos/MPython2.png\" width=\"500\">"
   ]
  },
  {
   "cell_type": "markdown",
   "metadata": {
    "slideshow": {
     "slide_type": "skip"
    }
   },
   "source": [
    "<center>\n",
    "\n",
    "<img src=\"ImagesVideos/MPython.jpg\" width=\"500\">\n",
    "</center>"
   ]
  },
  {
   "cell_type": "markdown",
   "metadata": {
    "slideshow": {
     "slide_type": "slide"
    }
   },
   "source": [
    "# The Pythons comedy troupe\n",
    "\n",
    "<img src=\"ImagesVideos/MPython.jpg\" width=\"500\">\n",
    "\n",
    "[The Monty Python-style silly walk](https://www.youtube.com/watch?v=eCLp7zodUiI)\n",
    "\n",
    "[Monty Python still brining smiles on the faces](https://www.youtube.com/watch?v=a3ppLWGygaw)"
   ]
  },
  {
   "cell_type": "code",
   "execution_count": 1,
   "metadata": {
    "slideshow": {
     "slide_type": "skip"
    }
   },
   "outputs": [
    {
     "data": {
      "text/html": [
       "\n",
       "<video width=\"2300\" height=\"550\" controls>\n",
       "  <source src=\"ImagesVideos/MontyPythonVideo2.mp4\" type=\"video/mp4\">\n",
       "</video>\n"
      ],
      "text/plain": [
       "<IPython.core.display.HTML object>"
      ]
     },
     "execution_count": 1,
     "metadata": {},
     "output_type": "execute_result"
    }
   ],
   "source": [
    "from IPython.display import HTML\n",
    "\n",
    "HTML(\"\"\"\n",
    "<video width=\"2300\" height=\"550\" controls>\n",
    "  <source src=\"ImagesVideos/MontyPythonVideo2.mp4\" type=\"video/mp4\">\n",
    "</video>\n",
    "\"\"\")"
   ]
  },
  {
   "cell_type": "code",
   "execution_count": 2,
   "metadata": {
    "slideshow": {
     "slide_type": "skip"
    }
   },
   "outputs": [
    {
     "data": {
      "text/html": [
       "\n",
       "<video height=\"600\" width=\"600\" controls>\n",
       "  <source src=\"ImagesVideos/MontyPythonVideo.mp4\" type=\"video/mp4\">\n",
       "</video>\n"
      ],
      "text/plain": [
       "<IPython.core.display.HTML object>"
      ]
     },
     "execution_count": 2,
     "metadata": {},
     "output_type": "execute_result"
    }
   ],
   "source": [
    "from IPython.display import HTML\n",
    "\n",
    "HTML(\"\"\"\n",
    "<video height=\"600\" width=\"600\" controls>\n",
    "  <source src=\"ImagesVideos/MontyPythonVideo.mp4\" type=\"video/mp4\">\n",
    "</video>\n",
    "\"\"\")"
   ]
  },
  {
   "cell_type": "markdown",
   "metadata": {
    "slideshow": {
     "slide_type": "skip"
    }
   },
   "source": [
    "\n",
    "<tr>\n",
    "<td> <img src=\"ImagesVideos/NoBook.jpg\" alt=\"Drawing\" style=\"width: 700px;\"/> </td>\n",
    "<td> <img src=\"ImagesVideos/Loop.png\" alt=\"Drawing\" style=\"width: 700px;\"/> </td>\n",
    "</tr>\n",
    "\n"
   ]
  },
  {
   "cell_type": "markdown",
   "metadata": {
    "slideshow": {
     "slide_type": "skip"
    }
   },
   "source": [
    "<center>\n",
    "\n",
    "<img src=\"ImagesVideos/NoBookLoop.png\" width=\"500\">\n",
    "</center>"
   ]
  },
  {
   "cell_type": "markdown",
   "metadata": {
    "slideshow": {
     "slide_type": "slide"
    }
   },
   "source": [
    "# Learning objectives\n",
    "\n",
    "- Jupyter notebooks\n",
    "- basics of programming\n",
    "- Python language syntax\n",
    "- variables and objects\n",
    "- operators\n",
    "- built-in data types and structures\n",
    "- control flow\n",
    "- defining and using functions\n",
    "- strings (and regular expressions)\n",
    "- file input and output\n",
    "- modules and packages\n",
    "- NumPy module"
   ]
  },
  {
   "cell_type": "markdown",
   "metadata": {
    "slideshow": {
     "slide_type": "skip"
    }
   },
   "source": [
    "# Learning objectives of day 1\n",
    "- basics of programming\n",
    "- Jupyter notebooks\n",
    "- Python language syntax\n",
    "- variables and objects\n",
    "- operators\n",
    "- built-in data types and structures\n",
    "- control flow\n",
    "- defining and using functions\n",
    "- strings (and regular expressions)\n",
    "- file input and output\n",
    "- modules and packages"
   ]
  },
  {
   "cell_type": "code",
   "execution_count": 3,
   "metadata": {
    "slideshow": {
     "slide_type": "skip"
    }
   },
   "outputs": [
    {
     "ename": "SyntaxError",
     "evalue": "invalid syntax (<ipython-input-3-e1fc44f5481a>, line 2)",
     "output_type": "error",
     "traceback": [
      "\u001b[0;36m  File \u001b[0;32m\"<ipython-input-3-e1fc44f5481a>\"\u001b[0;36m, line \u001b[0;32m2\u001b[0m\n\u001b[0;31m    - basics of programming\u001b[0m\n\u001b[0m              ^\u001b[0m\n\u001b[0;31mSyntaxError\u001b[0m\u001b[0;31m:\u001b[0m invalid syntax\n"
     ]
    }
   ],
   "source": [
    "# Learning objectives\n",
    "- basics of programming\n",
    "- Python language syntax\n",
    "- variables and objects\n",
    "- operators\n",
    "- built-in data types and structures\n",
    "- control flow\n",
    "- defining and using functions\n",
    "- errors and exceptions\n",
    "- iterators\n",
    "- list comprehensions\n",
    "- generator expressions\n",
    "- strings and regular expressions\n",
    "- file input and output\n",
    "- modules and packages\n",
    "- preview of data science tools"
   ]
  },
  {
   "cell_type": "markdown",
   "metadata": {
    "slideshow": {
     "slide_type": "skip"
    }
   },
   "source": [
    "# Learning objectives\n",
    "||||\n",
    "|:--|:--|:--|\n",
    "|- basics of programming | - built-in data types and structures | - file input and output|\n",
    "|- Python language syntax | - control flow | - modules and packages|\n",
    "|- variables and objects | - defining and using functions | - strings and regular expressions|\n",
    "|- operators | - errors and exceptions | - preview of data science tools|"
   ]
  },
  {
   "cell_type": "markdown",
   "metadata": {
    "slideshow": {
     "slide_type": "slide"
    }
   },
   "source": [
    "# What is programming?\n",
    "We can relate programming already to many different fields of study in Computer Science, like\n",
    "- Robotics\n",
    "- Architecture\n",
    "- Graphics\n",
    "- Artificial Intelligence\n",
    "\n",
    "Some of these serve not just CS anymore, but all other branches of science,\n",
    "- formal sciences\n",
    "- natural sciences (physical science and life science).\n",
    "- social sciences\n",
    "\n",
    "and we encounter them even in everyday applications."
   ]
  },
  {
   "cell_type": "markdown",
   "metadata": {
    "slideshow": {
     "slide_type": "slide"
    }
   },
   "source": [
    "# What is programming?\n",
    "“Programming is the act of instructing computers to carry out tasks.”\n",
    "\n",
    "\n",
    "# Where does programming fit in?\n",
    "\n",
    "As an **art** programming belongs to CS: \"Having surveyed the relationships of computer science with other disciplines, it remains to answer the basic questions: What is the central core of the subject? What is it that distinguishes it from the separate subjects with which it is related? What is the linking thread which gathers these disparate branches into a single discipline? My answer to these questions is simple – it is the art of programming a computer. **It is the art of designing efficient and elegant methods of getting a computer to solve problems, theoretical or practical, small or large, simple or complex.** It is the art of translating this design into an effective and accurate computer program.\" –  C.A.R. Hoare, Essays in Computing Science"
   ]
  },
  {
   "cell_type": "markdown",
   "metadata": {
    "slideshow": {
     "slide_type": "slide"
    }
   },
   "source": [
    "# Communication with a computer\n",
    "\n",
    "* The natural language of the computer is **the binary code**.\n",
    "\n",
    "* We communicate with the computer through **high or low level computer languages**, which are farther or less far from the natural language of the computer and closer or less close to our natural human language.\n",
    "\n",
    "* The computer uses a **translator** to understand what we want to communicate.\n",
    "\n",
    "<!--![grafik.png](attachment:grafik.png)-->\n",
    "<center>\n",
    "<img src=\"ImagesVideos/grafik.png\" width=\"500\">\n",
    "</center>"
   ]
  },
  {
   "cell_type": "markdown",
   "metadata": {
    "slideshow": {
     "slide_type": "slide"
    }
   },
   "source": [
    "## Translators\n",
    "\n",
    "### Interpreters\n",
    "\n",
    "The translator processes the source code line by line and runs every line in the final program or app. The interpreter stops to run at the first encountered error. Ex. Python\n",
    "### Compilers\n",
    "Compilers convert the source code in its entirety via a compilation process to binary. The binary is then executed. If there were errors in the source code, they are detected during the compilation time and flagged. This interrupts the compilation process, and no binary is generated.\n",
    "\n",
    "\n",
    "### Hybrid translators\n",
    "Mixture. Ex. Java, which first compiles your source code to an intermediate format known as the Bytecode. The Bytecode is then interpreted and executed by a runtime engine also known as a virtual machine. This enables the hybrid translators to run the bytecode on various operating systems."
   ]
  },
  {
   "cell_type": "markdown",
   "metadata": {
    "slideshow": {
     "slide_type": "slide"
    }
   },
   "source": [
    "**A computer program** is a sequence of instructions that is executed by a computer.\n",
    "\n",
    "**The executing/running** computer program is called **process**.\n",
    "\n",
    "The time to execute/run a program is **run-time**."
   ]
  },
  {
   "cell_type": "markdown",
   "metadata": {
    "slideshow": {
     "slide_type": "slide"
    }
   },
   "source": [
    "## Basic equipment to start programming\n",
    "\n",
    "- computer with a system\n",
    "- text editor (to write code in)\n",
    "- command line interface (command prompt or terminal) to interact with the computer instead of a GUI\n",
    "- translator: interpreter or compiler\n",
    "\n",
    "## A possible scenario of programming\n",
    "- you write your source code in a simple text editor\n",
    "- you save your source code with specific extension (.py for Python, .java for Java)\n",
    "- you run the source code through a translator"
   ]
  },
  {
   "cell_type": "markdown",
   "metadata": {
    "slideshow": {
     "slide_type": "slide"
    }
   },
   "source": [
    "## What can appear in a computer program? \n",
    "\n",
    "### 1. Reserved words\n",
    "\n",
    "- keywords - human readable words with special role in the computer language"
   ]
  },
  {
   "cell_type": "code",
   "execution_count": 3,
   "metadata": {},
   "outputs": [
    {
     "name": "stdout",
     "output_type": "stream",
     "text": [
      "['False', 'None', 'True', 'and', 'as', 'assert', 'break', 'class', 'continue', 'def', 'del', 'elif', 'else', 'except', 'finally', 'for', 'from', 'global', 'if', 'import', 'in', 'is', 'lambda', 'nonlocal', 'not', 'or', 'pass', 'raise', 'return', 'try', 'while', 'with', 'yield']\n"
     ]
    }
   ],
   "source": [
    "import keyword\n",
    "print(keyword.kwlist)"
   ]
  },
  {
   "cell_type": "markdown",
   "metadata": {},
   "source": [
    "- identifiers \n",
    "    - words, whose meaning is defined by programmers\n",
    "    - the ones created by other programmers can be loaded as libraries/modules/packages"
   ]
  },
  {
   "cell_type": "markdown",
   "metadata": {
    "slideshow": {
     "slide_type": "slide"
    }
   },
   "source": [
    "## What can appear in a computer program? \n",
    "\n",
    "### 2. Data types\n",
    "simple data structures (numbers, characters) & complex data structures (list of numbers, matrices, text)\n",
    "\n",
    "### 3. Data\n",
    "#### Variables\n",
    "- memory locations, where we put some recallable data\n",
    "- typically the stored data changes during the program\n",
    "\n",
    "#### Constants\n",
    "- memory locations, where we put some recallable data\n",
    "- typically the data remains unchanged during the program"
   ]
  },
  {
   "cell_type": "markdown",
   "metadata": {
    "slideshow": {
     "slide_type": "slide"
    }
   },
   "source": [
    "## What can appear in a computer program? \n",
    "\n",
    "### 4. Punctuation & white spaces and tabs\n",
    "\n",
    "the comma (,), semi-colon(;), colon(:), braces ({}), brackets (()), square braces ([]), quotation marks (“ ”), pipe (|), slash (/), period (.), question mark (?), caret(^) and percentage (%).\n",
    "\n",
    "### 5. Operators\n",
    "- assignment operators\n",
    "- arithmetic operations\n",
    "- relational operators\n",
    "- logical operators\n",
    "\n",
    "### 6. Comments\n",
    "- text, which is not interpreted/compiled\n",
    "- used for documenting the program code"
   ]
  },
  {
   "cell_type": "markdown",
   "metadata": {
    "slideshow": {
     "slide_type": "slide"
    }
   },
   "source": [
    "## Further programming notions\n",
    "\n",
    "* An **expression** is a meaningful combination of operators and operands. For example, if `width` denotes the first dimension of a room and `length` the second, then `width * length` would be a meaningful expression.\n",
    "\n",
    "* If we assign the value of an expression to a variable, we get a **statement**. For example `area = width * length`.\n",
    "\n",
    "* **The coding flow** indicates how should be executed the statements from the code. It can be of three types:\n",
    "    - sequential,\n",
    "    - conditional/branching,\n",
    "    - iterative/repetitive/loops."
   ]
  },
  {
   "cell_type": "markdown",
   "metadata": {
    "slideshow": {
     "slide_type": "slide"
    }
   },
   "source": [
    "# Analogy\n",
    "\n",
    "|<font size=\"+2\">programming</font>|<font size=\"+2\">writing a story, play</font>|\n",
    "|:--|:--|\n",
    "|<font size=\"+2\">programmer</font>|<font size=\"+2\">writer</font>|\n",
    "|<font size=\"+2\">program code</font>|<font size=\"+2\">text of the story</font>|\n",
    "|<font size=\"+2\">variables, constants</font>|<font size=\"+2\">acteurs, environment</font>|\n",
    "|<font size=\"+2\">statements</font>|<font size=\"+2\">events, happenings</font>|"
   ]
  },
  {
   "cell_type": "markdown",
   "metadata": {
    "slideshow": {
     "slide_type": "skip"
    }
   },
   "source": [
    "pillow.make()\n",
    "\n",
    "me.lay_on(pillow)\n",
    "\n",
    "me.sleep()\n",
    "\n",
    "me.wake_up()"
   ]
  },
  {
   "cell_type": "markdown",
   "metadata": {
    "slideshow": {
     "slide_type": "slide"
    }
   },
   "source": [
    "# Flowchart\n",
    "A flowchart is a universal visual representation of an algorithm, a step-by-step approach to solving a task."
   ]
  },
  {
   "cell_type": "markdown",
   "metadata": {
    "slideshow": {
     "slide_type": "-"
    }
   },
   "source": [
    "<center>\n",
    "\n",
    "<img src=\"ImagesVideos/Flowchart1.png\" width=\"800\">\n",
    "</center>"
   ]
  },
  {
   "cell_type": "markdown",
   "metadata": {
    "slideshow": {
     "slide_type": "slide"
    }
   },
   "source": [
    "# Flowchart conventions"
   ]
  },
  {
   "cell_type": "markdown",
   "metadata": {
    "slideshow": {
     "slide_type": "-"
    }
   },
   "source": [
    "<center>\n",
    "\n",
    "<img src=\"ImagesVideos/FlowchartConv.png\" width=\"800\">\n",
    "</center>"
   ]
  },
  {
   "cell_type": "markdown",
   "metadata": {
    "slideshow": {
     "slide_type": "notes"
    }
   },
   "source": [
    "In a programming language independent way, algorithms can be described by flowcharts."
   ]
  },
  {
   "cell_type": "markdown",
   "metadata": {
    "slideshow": {
     "slide_type": "slide"
    }
   },
   "source": [
    "# The traditional snakes and ladders board game\n",
    "\n",
    "\n",
    "<center>\n",
    "\n",
    "<img src=\"ImagesVideos/Flowchart2.png\" width=\"750\">\n",
    "</center>"
   ]
  },
  {
   "cell_type": "markdown",
   "metadata": {
    "slideshow": {
     "slide_type": "slide"
    }
   },
   "source": [
    "# The binary language of the computer\n",
    "\n",
    "* The atomic building block of the binary language is the **bit**. The bit has just two possible states, it stores just a 0 or 1. A bit is too small to store much.\n",
    "* How many patterns can be formed of $n$ bites?\n",
    "|<font size=\"+1\">Number of bits</font>|<font size=\"+1\">Different patterns</font>|\n",
    "|:--|:--|\n",
    "|<font size=\"+1\">1</font>|<font size=\"+1\">0, 1</font>|\n",
    "|<font size=\"+1\">2</font>|<font size=\"+1\">00, 01, 10, 11</font>|\n",
    "|<font size=\"+1\">3</font>|<font size=\"+1\">**0**00, **0**01, **0**10, **0**11, **1**00, **1**01, **1**10, **1**11</font>|\n",
    "* In general:\n",
    "    * On 1 bit we can represent 2 patterns,\n",
    "    * on 2 bits $4 = 2^2$  patterns,\n",
    "    * on 3 bits $8 = 2^3$ patterns,\n",
    "    * on 4 bits $16 = 2^4$ patterns,\n",
    "    * on 5 bits $32 = 2^5$ patterns,\n",
    "    * on 6 bits $64 = 2^6$ patterns,\n",
    "    * on 7 bits $128 = 2^7$ patterns,\n",
    "    * on 8 bits $256 = 2^8$ patterns.\n",
    "\n",
    "    "
   ]
  },
  {
   "cell_type": "markdown",
   "metadata": {
    "slideshow": {
     "slide_type": "slide"
    }
   },
   "source": [
    "# Measurement units of information \n",
    "\n",
    "* A group of 8 bits forms a **byte**.\n",
    "* \"Byte\" - unit of information storage\n",
    "\n",
    "A document, an image, a movie ... how many bytes? \n",
    "* Kilobyte (KB) about 1 thousand bytes ($2^{10} = 1024$ bytes)\n",
    "* Megabyte (MB) about 1 million bytes ($2^{20} = 1024 \\cdot 1024$ bytes, 1024 KB)\n",
    "* Gigabyte (GB) about 1 billion bytes ($2^{30} = 1024\\cdot 1024 \\cdot 1024$ bytes, 1024 MB)\n",
    "* Terabyte (TB) about 1 trillion bytes ($2^{40} = 1024 \\cdot 1024 \\cdot 1024 \\cdot1024$ bytes, 1024 GB) \n",
    "* Petabyte (PB) about 1 quadrillion bytes ($2^{50} = 1024^5$ bytes, 1024 TB)\n",
    "\n",
    "Text and numbers have equally a binary representation in a computer. **ASCI** is an encoding representing each typed character on one byte by a number. For example $A$ has code 65, the space 32. **Unicode** is an encoding for mandarin, greek, arabic etc. languages, typically 2-bytes per \"character\".\n",
    "\n",
    "On 1 byte we can represent $2^8 = 256$ numbers. If we start counting from 0, this means the numbers 0, 1, 2, ..., 255."
   ]
  },
  {
   "cell_type": "markdown",
   "metadata": {
    "slideshow": {
     "slide_type": "slide"
    }
   },
   "source": [
    "# Decimal & binary numbers, binary to decimal\n",
    "\n",
    "In the decimal (or base-10) system each number is represented by the digits $0,1,\\ldots,9$ and each digit of a number has a value according to its position:\n",
    "\n",
    "$$\\begin{eqnarray}\n",
    "[372]_{10} &=& 2 + 7 \\cdot 10 + 3 \\cdot 100\\\\\n",
    "&=& 2 + 7 \\cdot 10^1 + 3 \\cdot 10^2\\\\\n",
    "&=& 2\\cdot 10^0 + 7 \\cdot 10^1 + 3 \\cdot 10^2\\\\[1em]\n",
    "[372.16]_{10} &=& 6 \\cdot 10^{-2} + 1 \\cdot 10^{-1} + 2\\cdot 10^0 + 7 \\cdot 10^1 + 3 \\cdot 10^2\n",
    "\\end{eqnarray}$$\n",
    "\n",
    "In the binary (or base-2) system each number is represented by the digits $0,1$ and each digit of a number has a place value according to its position:\n",
    "\n",
    "$$[1011]_2 = 1 \\cdot 2^0 + 1 \\cdot 2^1 + 0 \\cdot 2^2 + 1 \\cdot 2^3 = [11]_{10}$$\n",
    "\n",
    "You can watch a video about how to convert a binary number into a decimal one [here](https://www.youtube.com/watch?v=vCBilLYL3nA).\n"
   ]
  },
  {
   "cell_type": "markdown",
   "metadata": {
    "slideshow": {
     "slide_type": "slide"
    }
   },
   "source": [
    "# From decimal to binary\n",
    "\n",
    "To find the binary representation of a decimal number we perform iteratively divisions by 2 and keep track of the remainders.\n",
    "\n",
    "\n",
    "$\\begin{array}{rrrrr}\n",
    "372 &: &2 &= &186\\\\\n",
    "372 &&&&\\\\\n",
    "---&&&&\\\\\n",
    "\\bf{0}\n",
    "\\end{array}\\quad \n",
    "\\begin{array}{rrrrr}\n",
    "186 &: &2 &= &93\\\\\n",
    "186 &&&&\\\\\n",
    "---&&&&\\\\\n",
    "\\bf{0}\n",
    "\\end{array} \\quad \n",
    "\\begin{array}{rrrrr}\n",
    "93 &: &2 &= &46\\\\\n",
    "92 &&&&\\\\\n",
    "---&&&&\\\\\n",
    "\\bf{1}\n",
    "\\end{array} \\quad\n",
    "\\begin{array}{rrrrr}\n",
    "46 &: &2 &= &23\\\\\n",
    "46 &&&&\\\\\n",
    "---&&&&\\\\\n",
    "\\bf{0}\n",
    "\\end{array} \\quad\n",
    "\\begin{array}{rrrrr}\n",
    "23 &: &2 &= &11\\\\\n",
    "22 &&&&\\\\\n",
    "---&&&&\\\\\n",
    "\\bf{1}\n",
    "\\end{array}$\n",
    "\n",
    "We continue the process until the quotient is 0.\n",
    "\n",
    "$\\begin{array}{rrrrr}\n",
    "11 &: &2 &= &5\\ \\ \\ \\\\\n",
    "10 &&&&\\\\\n",
    "---&&&&\\\\\n",
    "\\bf{1}\n",
    "\\end{array} \\quad\n",
    "\\begin{array}{rrrrr}\n",
    "5 &: &2 &= &2 \\ \\ \\\\\n",
    "4 &&&&\\\\\n",
    "---&&&&\\\\\n",
    "\\bf{1}\n",
    "\\end{array} \\quad\n",
    "\\begin{array}{rrrrr}\n",
    "2 &: &2 &= &1 \\ \\ \\\\\n",
    "2 &&&&\\\\\n",
    "---&&&&\\\\\n",
    "\\bf{0}\n",
    "\\end{array} \\quad\n",
    "\\begin{array}{rrrrr}\n",
    "1 &: &2 &= &0\\\\\n",
    "0 &&&&\\\\\n",
    "---&&&&\\\\\n",
    "\\bf{1}\n",
    "\\end{array}$\n",
    "\n",
    "The remainders written in the reversed order provide the binary representation of the original number:\n",
    "\n",
    "$$[372]_{10} = [101110100]_{2}$$\n"
   ]
  },
  {
   "cell_type": "markdown",
   "metadata": {
    "slideshow": {
     "slide_type": "slide"
    }
   },
   "source": [
    "# Exercise\n",
    "\n",
    "## Create the flowchart of an algorithm, which transforms a binary number to a decimal one.\n",
    "\n",
    "To create easily diagrams you can use [the linked free diagram creating software](https://app.diagrams.net/)."
   ]
  },
  {
   "cell_type": "markdown",
   "metadata": {
    "slideshow": {
     "slide_type": "skip"
    }
   },
   "source": [
    "Here comes your flowchart"
   ]
  },
  {
   "cell_type": "markdown",
   "metadata": {
    "slideshow": {
     "slide_type": "slide"
    }
   },
   "source": [
    "<center>\n",
    "\n",
    "<img src=\"ImagesVideos/Binary2Decimal.png\">\n",
    "\n",
    "</center>"
   ]
  },
  {
   "cell_type": "markdown",
   "metadata": {
    "slideshow": {
     "slide_type": "slide"
    }
   },
   "source": [
    "# Exercise\n",
    "\n",
    "## Create the flowchart of an algorithm, which transforms a decimal number to a binary one.\n",
    "\n",
    "In [this video](https://www.youtube.com/watch?v=NeILIhiz0yM&t=153s) upto 2 min 37 sec you see a slightly different approach to convering a decimal number into a binary one.\n",
    "\n",
    "To create easily diagrams you can use [the linked free diagram creating software](https://app.diagrams.net/).\n"
   ]
  },
  {
   "cell_type": "markdown",
   "metadata": {
    "slideshow": {
     "slide_type": "slide"
    }
   },
   "source": [
    "<center>\n",
    "\n",
    "<img src=\"ImagesVideos/Decimal2Binary.png\">\n",
    "\n",
    "</center>"
   ]
  },
  {
   "cell_type": "markdown",
   "metadata": {
    "slideshow": {
     "slide_type": "skip"
    }
   },
   "source": [
    "# Exercise\n",
    "\n",
    "## Create the flowchart of an algorithm, which determines the factorial of a given number $n$."
   ]
  },
  {
   "cell_type": "markdown",
   "metadata": {
    "slideshow": {
     "slide_type": "slide"
    }
   },
   "source": [
    "<center>\n",
    "\n",
    "<img src=\"ImagesVideos/Flowchart3.png\" width=\"800\">\n",
    "</center>"
   ]
  },
  {
   "cell_type": "markdown",
   "metadata": {
    "slideshow": {
     "slide_type": "slide"
    }
   },
   "source": [
    "During our courses our code runs on one of the following:\n",
    "* [Google Colab](https://colab.research.google.com),\n",
    "* virtual machine provided by SWITCHengines,\n",
    "* [free hub provided by epfl](https://noto.epfl.ch): noto.epfl.ch.\n",
    "\n",
    "\n",
    "# Jupyter Notebook\n",
    "- browser based graphical interface\n",
    "    - can execute Python statements\n",
    "    - can handle formatted text, maths equations (LaTeX)\n",
    "    - can contain static or dynamic visualisations\n",
    "- it connects to a running Python process (kernel) to execute Python code"
   ]
  }
 ],
 "metadata": {
  "celltoolbar": "Slideshow",
  "kernelspec": {
   "display_name": "Python 3 (ipykernel)",
   "language": "python",
   "name": "python3"
  },
  "language_info": {
   "codemirror_mode": {
    "name": "ipython",
    "version": 3
   },
   "file_extension": ".py",
   "mimetype": "text/x-python",
   "name": "python",
   "nbconvert_exporter": "python",
   "pygments_lexer": "ipython3",
   "version": "3.10.9"
  }
 },
 "nbformat": 4,
 "nbformat_minor": 2
}
