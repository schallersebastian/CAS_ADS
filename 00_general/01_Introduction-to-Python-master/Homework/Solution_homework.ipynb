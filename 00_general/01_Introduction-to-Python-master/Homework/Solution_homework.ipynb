{
 "cells": [
  {
   "cell_type": "markdown",
   "metadata": {},
   "source": [
    "# Homework\n",
    "\n",
    "### Exercise 1\n",
    "\n",
    "1. Read the text in a multiline string from the *Haikus.txt* file.\n",
    "2. Loop through the rows of the text. Use string methods or regular expressions to write a code, which returns those rows of the input text, which contain the string 'translated by'.\n",
    "3. Out of the previous code create a function, which returns those rows of an input text `t`, which conain the string `s`.\n",
    "4. (optional) Modify the function in such a way that instead of looking for one string `s`, you allow for an infinity of strings `s_1`,`s_2`,... that you are looking for. The function should return all the lines, that match any of the specified strings.\n",
    "5. Create a dictionary containing the **title**, **translator** and **text** of each haitaku.\n",
    "6. Write the titles of the haikus into a new text file *HaikuTitles.txt*."
   ]
  },
  {
   "cell_type": "markdown",
   "metadata": {
    "id": "-0lvrjSYcJVH"
   },
   "source": [
    "### Solution to exercise 1\n",
    "\n",
    "1-2. Simply open the file and read line by line. One should read until the end of the file. ```lines``` will be just ```''``` at the last line which counts as ```False``` and stops the ```while``` loop. We use the ```.find()``` method to determine whether the ```translated by``` string is in the line. The function returns ```-1``` if the string is absent.\n"
   ]
  },
  {
   "cell_type": "code",
   "execution_count": 6,
   "metadata": {
    "executionInfo": {
     "elapsed": 480,
     "status": "ok",
     "timestamp": 1614675580444,
     "user": {
      "displayName": "Guillaume Witz",
      "photoUrl": "https://lh3.googleusercontent.com/a-/AOh14GgT0K2JVYzEsjzsS5nhkUVjUrSIJ5jHzXnBoYrmVf8=s64",
      "userId": "16033870147214403532"
     },
     "user_tz": -60
    },
    "id": "8oBjW2Le5ZzE"
   },
   "outputs": [],
   "source": [
    "keep = []\n",
    "with open('Haikus.txt') as f:\n",
    "    lines = f.readline()\n",
    "    while lines:\n",
    "        if lines.find('translated by')>-1:\n",
    "            keep.append(lines.rstrip())\n",
    "        lines = f.readline()"
   ]
  },
  {
   "cell_type": "code",
   "execution_count": 7,
   "metadata": {
    "colab": {
     "base_uri": "https://localhost:8080/"
    },
    "executionInfo": {
     "elapsed": 364,
     "status": "ok",
     "timestamp": 1614675580991,
     "user": {
      "displayName": "Guillaume Witz",
      "photoUrl": "https://lh3.googleusercontent.com/a-/AOh14GgT0K2JVYzEsjzsS5nhkUVjUrSIJ5jHzXnBoYrmVf8=s64",
      "userId": "16033870147214403532"
     },
     "user_tz": -60
    },
    "id": "fmUTlIO28A11",
    "outputId": "38777456-3a5f-424c-babe-42b33f91f7fd"
   },
   "outputs": [
    {
     "data": {
      "text/plain": [
       "['translated by Éva Antal',\n",
       " 'translated by Éva Antal',\n",
       " 'translated by Gábor G. Gyukics and Michael Castro',\n",
       " 'translated by Gábor G. Gyukics and Michael Castro',\n",
       " 'translated by Tamás Révbíró',\n",
       " 'translated by Tamás Révbíró',\n",
       " 'translated by Tamás Révbíró',\n",
       " 'translated by Tamás Révbíró',\n",
       " 'translated by Tamás Révbíró',\n",
       " 'translated by Tamás Révbíró']"
      ]
     },
     "execution_count": 7,
     "metadata": {},
     "output_type": "execute_result"
    }
   ],
   "source": [
    "keep"
   ]
  },
  {
   "cell_type": "markdown",
   "metadata": {
    "id": "WdDqfl9nCsQw"
   },
   "source": [
    "3. We replace the file name and the string we search for by variables ```t``` and ```s```:"
   ]
  },
  {
   "cell_type": "code",
   "execution_count": 41,
   "metadata": {
    "executionInfo": {
     "elapsed": 532,
     "status": "ok",
     "timestamp": 1614675582690,
     "user": {
      "displayName": "Guillaume Witz",
      "photoUrl": "https://lh3.googleusercontent.com/a-/AOh14GgT0K2JVYzEsjzsS5nhkUVjUrSIJ5jHzXnBoYrmVf8=s64",
      "userId": "16033870147214403532"
     },
     "user_tz": -60
    },
    "id": "fvVXV2sk5_wJ"
   },
   "outputs": [],
   "source": [
    "def find_words(t,s):\n",
    "    keep = []\n",
    "    with open(t) as f:\n",
    "\n",
    "        lines = f.readline()\n",
    "        while lines:\n",
    "            if lines.find(s)>-1:\n",
    "                keep.append(lines.rstrip())\n",
    "            lines = f.readline()\n",
    "    return keep"
   ]
  },
  {
   "cell_type": "code",
   "execution_count": 42,
   "metadata": {
    "colab": {
     "base_uri": "https://localhost:8080/"
    },
    "executionInfo": {
     "elapsed": 388,
     "status": "ok",
     "timestamp": 1614675583010,
     "user": {
      "displayName": "Guillaume Witz",
      "photoUrl": "https://lh3.googleusercontent.com/a-/AOh14GgT0K2JVYzEsjzsS5nhkUVjUrSIJ5jHzXnBoYrmVf8=s64",
      "userId": "16033870147214403532"
     },
     "user_tz": -60
    },
    "id": "QOiyNYTu6E5a",
    "outputId": "857fd5ae-2521-475a-d3d7-12fa29c34c73"
   },
   "outputs": [
    {
     "data": {
      "text/plain": [
       "['translated by Éva Antal',\n",
       " 'translated by Éva Antal',\n",
       " 'translated by Gábor G. Gyukics and Michael Castro',\n",
       " 'translated by Gábor G. Gyukics and Michael Castro',\n",
       " 'translated by Tamás Révbíró',\n",
       " 'translated by Tamás Révbíró',\n",
       " 'translated by Tamás Révbíró',\n",
       " 'translated by Tamás Révbíró',\n",
       " 'translated by Tamás Révbíró',\n",
       " 'translated by Tamás Révbíró']"
      ]
     },
     "execution_count": 42,
     "metadata": {
      "tags": []
     },
     "output_type": "execute_result"
    }
   ],
   "source": [
    "find_words('Haikus.txt', 'translated by')"
   ]
  },
  {
   "cell_type": "markdown",
   "metadata": {
    "id": "L75FqYkHC9O6"
   },
   "source": [
    "4. Instead of looking for a single string we can loop over a list of strings to search for:"
   ]
  },
  {
   "cell_type": "code",
   "execution_count": 43,
   "metadata": {
    "executionInfo": {
     "elapsed": 517,
     "status": "ok",
     "timestamp": 1614675584267,
     "user": {
      "displayName": "Guillaume Witz",
      "photoUrl": "https://lh3.googleusercontent.com/a-/AOh14GgT0K2JVYzEsjzsS5nhkUVjUrSIJ5jHzXnBoYrmVf8=s64",
      "userId": "16033870147214403532"
     },
     "user_tz": -60
    },
    "id": "jAkxiIjODDhq"
   },
   "outputs": [],
   "source": [
    "def find_words_multiple(t,list_s):\n",
    "    keep = []\n",
    "    with open(t) as f:\n",
    "        lines = f.readline()\n",
    "        while lines:\n",
    "            for s in list_s:\n",
    "                if lines.find(s)>-1:\n",
    "                    keep.append(lines.rstrip())\n",
    "                    break\n",
    "            lines = f.readline()\n",
    "    return keep"
   ]
  },
  {
   "cell_type": "code",
   "execution_count": 44,
   "metadata": {
    "colab": {
     "base_uri": "https://localhost:8080/"
    },
    "executionInfo": {
     "elapsed": 398,
     "status": "ok",
     "timestamp": 1614675584646,
     "user": {
      "displayName": "Guillaume Witz",
      "photoUrl": "https://lh3.googleusercontent.com/a-/AOh14GgT0K2JVYzEsjzsS5nhkUVjUrSIJ5jHzXnBoYrmVf8=s64",
      "userId": "16033870147214403532"
     },
     "user_tz": -60
    },
    "id": "EmmkOyRfHNt1",
    "outputId": "0def202a-9cfd-4d13-b361-a6d857c8cd9a"
   },
   "outputs": [
    {
     "data": {
      "text/plain": [
       "['translated by Éva Antal',\n",
       " 'translated by Éva Antal',\n",
       " 'Do you still see',\n",
       " 'what you look at, or you only',\n",
       " 'translated by Gábor G. Gyukics and Michael Castro',\n",
       " 'translated by Gábor G. Gyukics and Michael Castro',\n",
       " 'translated by Tamás Révbíró',\n",
       " 'translated by Tamás Révbíró',\n",
       " 'translated by Tamás Révbíró',\n",
       " 'translated by Tamás Révbíró',\n",
       " 'translated by Tamás Révbíró',\n",
       " 'translated by Tamás Révbíró']"
      ]
     },
     "execution_count": 44,
     "metadata": {
      "tags": []
     },
     "output_type": "execute_result"
    }
   ],
   "source": [
    "find_words_multiple('Haikus.txt',['translated', 'you'])"
   ]
  },
  {
   "cell_type": "markdown",
   "metadata": {},
   "source": [
    "Observe that the `break ` command is needed here to avoid adding the same line more times to the list of strings being kept. Without the break command a line, that contains maybe more strings from the list would be added as many times, as many times a match will be detected. Due to the `break` command, the `for` cycle will be quit after the first match in the line was found and the line was added to the lines to be kept for output.  "
   ]
  },
  {
   "cell_type": "markdown",
   "metadata": {
    "id": "zF-hQ52CHaWE"
   },
   "source": [
    "5. There are multiple solutions for this problem. The brute force approach is to \n",
    "* 1) read all the lines, \n",
    "* 2) go through each line and find the ones starting by ```translated by```, \n",
    "* 3) assign the previous line to the ```title``` list and the following ones to the ```text``` list. \n",
    "\n",
    "For the text we return a list of lines for each haiku. We also remove the new lines ```\\n``` and only use the non-empty lines."
   ]
  },
  {
   "cell_type": "code",
   "execution_count": 11,
   "metadata": {
    "executionInfo": {
     "elapsed": 621,
     "status": "ok",
     "timestamp": 1614675586284,
     "user": {
      "displayName": "Guillaume Witz",
      "photoUrl": "https://lh3.googleusercontent.com/a-/AOh14GgT0K2JVYzEsjzsS5nhkUVjUrSIJ5jHzXnBoYrmVf8=s64",
      "userId": "16033870147214403532"
     },
     "user_tz": -60
    },
    "id": "3SLj3Ypx6WCm"
   },
   "outputs": [],
   "source": [
    "with open('Haikus.txt') as f:\n",
    "    haiku = f.readlines()"
   ]
  },
  {
   "cell_type": "code",
   "execution_count": 12,
   "metadata": {
    "executionInfo": {
     "elapsed": 712,
     "status": "ok",
     "timestamp": 1614675602578,
     "user": {
      "displayName": "Guillaume Witz",
      "photoUrl": "https://lh3.googleusercontent.com/a-/AOh14GgT0K2JVYzEsjzsS5nhkUVjUrSIJ5jHzXnBoYrmVf8=s64",
      "userId": "16033870147214403532"
     },
     "user_tz": -60
    },
    "id": "BD8MjveuVK4k"
   },
   "outputs": [],
   "source": [
    "translator = []\n",
    "title = []\n",
    "text = []\n",
    "text_temp = []\n",
    "for i in range(1, len(haiku)):\n",
    "    if haiku[i].find('translated by')>-1:\n",
    "        if len(text_temp) > 0:\n",
    "            text.append(text_temp)\n",
    "        translator.append(haiku[i].rstrip())\n",
    "        title.append(haiku[i-1].rstrip())\n",
    "        text_temp = []\n",
    "    else:\n",
    "        # if the following line contains 'translated by', skip the current line which is the title\n",
    "        if i<len(haiku)-1:\n",
    "            if haiku[i+1].find('translated by')>-1:\n",
    "                continue\n",
    "        text_to_add = haiku[i].rstrip()\n",
    "        if len(text_to_add) >0: \n",
    "            text_temp.append(text_to_add)"
   ]
  },
  {
   "cell_type": "code",
   "execution_count": 13,
   "metadata": {
    "executionInfo": {
     "elapsed": 521,
     "status": "ok",
     "timestamp": 1614675603588,
     "user": {
      "displayName": "Guillaume Witz",
      "photoUrl": "https://lh3.googleusercontent.com/a-/AOh14GgT0K2JVYzEsjzsS5nhkUVjUrSIJ5jHzXnBoYrmVf8=s64",
      "userId": "16033870147214403532"
     },
     "user_tz": -60
    },
    "id": "lDqY6YPBVnsB"
   },
   "outputs": [],
   "source": [
    "my_dict = {'translator': translator, 'title': title, 'text': text}"
   ]
  },
  {
   "cell_type": "code",
   "execution_count": 14,
   "metadata": {
    "colab": {
     "base_uri": "https://localhost:8080/"
    },
    "executionInfo": {
     "elapsed": 534,
     "status": "ok",
     "timestamp": 1614675605237,
     "user": {
      "displayName": "Guillaume Witz",
      "photoUrl": "https://lh3.googleusercontent.com/a-/AOh14GgT0K2JVYzEsjzsS5nhkUVjUrSIJ5jHzXnBoYrmVf8=s64",
      "userId": "16033870147214403532"
     },
     "user_tz": -60
    },
    "id": "cBt505nOXqb1",
    "outputId": "03c52437-9fcc-4342-da58-9362f457af3d"
   },
   "outputs": [
    {
     "data": {
      "text/plain": [
       "{'translator': ['translated by Éva Antal',\n",
       "  'translated by Éva Antal',\n",
       "  'translated by Gábor G. Gyukics and Michael Castro',\n",
       "  'translated by Gábor G. Gyukics and Michael Castro',\n",
       "  'translated by Tamás Révbíró',\n",
       "  'translated by Tamás Révbíró',\n",
       "  'translated by Tamás Révbíró',\n",
       "  'translated by Tamás Révbíró',\n",
       "  'translated by Tamás Révbíró',\n",
       "  'translated by Tamás Révbíró'],\n",
       " 'title': ['WORKSHOP HAIKU',\n",
       "  'TEST QUESTION FOR EVERY DAY',\n",
       "  'FROM THE BEST OF INTENTIONS',\n",
       "  'MEETING',\n",
       "  'THE HAIKU',\n",
       "  'AXIOM',\n",
       "  'ECHO ON EPICTETUS',\n",
       "  'AXIOM',\n",
       "  'ZENsation',\n",
       "  'DISILLUSIONIST'],\n",
       " 'text': [['Perhaps do not even touch it.',\n",
       "   'Just look at it, look at it,',\n",
       "   'until it becomes beautiful.'],\n",
       "  ['Do you still see',\n",
       "   'what you look at, or you only',\n",
       "   'know: \"there\" \"it\" \"is\"?'],\n",
       "  ['fall asleep;', 'die the same way a child', 'bites into an apple.'],\n",
       "  ['I plan it as a farewell'],\n",
       "  ['in front of my feet',\n",
       "   'a bird sat, and then took flight.',\n",
       "   \"Now I'm heavier.\"],\n",
       "  ['You should try and help', 'everything to be the way', 'it is anyway.'],\n",
       "  ['Don\\'t say, \"I lost it\",',\n",
       "   'about anything. Rather',\n",
       "   'say, \"I gave it back\".'],\n",
       "  ['Parents and killers:', 'almost-innocent servants.', 'They just execute.'],\n",
       "  ['Look, the snow gives body to the wind!']]}"
      ]
     },
     "execution_count": 14,
     "metadata": {},
     "output_type": "execute_result"
    }
   ],
   "source": [
    "my_dict"
   ]
  },
  {
   "cell_type": "markdown",
   "metadata": {
    "id": "r6JF6ocmK5-l"
   },
   "source": [
    "6."
   ]
  },
  {
   "cell_type": "code",
   "execution_count": 55,
   "metadata": {
    "executionInfo": {
     "elapsed": 563,
     "status": "ok",
     "timestamp": 1614675803676,
     "user": {
      "displayName": "Guillaume Witz",
      "photoUrl": "https://lh3.googleusercontent.com/a-/AOh14GgT0K2JVYzEsjzsS5nhkUVjUrSIJ5jHzXnBoYrmVf8=s64",
      "userId": "16033870147214403532"
     },
     "user_tz": -60
    },
    "id": "CHbobsyHK8UN"
   },
   "outputs": [],
   "source": [
    "with open('HaikuTitles.txt', 'w') as f:\n",
    "    for t in my_dict['title']:\n",
    "        f.write(t+'\\n')"
   ]
  },
  {
   "cell_type": "markdown",
   "metadata": {
    "id": "zvqmg1gYLGZa"
   },
   "source": [
    "### Exercise 2\n",
    "\n",
    "1. Import the data as a pandas dataframe from the file *'country_vaccinations.xls'*. \n",
    "2. Print the dataframe. \n",
    "3. Call the `head` function and the `describe` function of the dataframe. Call also the `dtypes` attribute of the dataframe. Understand how do they work and how should we interpret their output.\n",
    "4. Select a country out of the ones present in the dataframe. Create a new CSV file and put there all the data concerning the chosen country.\n",
    "\n",
    "### Solution to exercise 2\n",
    "\n",
    "1. The file has an extension .xls but is in fact a plain csv file so we can import it with:"
   ]
  },
  {
   "cell_type": "code",
   "execution_count": 57,
   "metadata": {
    "executionInfo": {
     "elapsed": 613,
     "status": "ok",
     "timestamp": 1614675926156,
     "user": {
      "displayName": "Guillaume Witz",
      "photoUrl": "https://lh3.googleusercontent.com/a-/AOh14GgT0K2JVYzEsjzsS5nhkUVjUrSIJ5jHzXnBoYrmVf8=s64",
      "userId": "16033870147214403532"
     },
     "user_tz": -60
    },
    "id": "8n2cvxDvLncp"
   },
   "outputs": [],
   "source": [
    "import pandas as pd\n",
    "\n",
    "vaccination = pd.read_csv('https://raw.githubusercontent.com/KingaS03/Introduction-to-Python/master/Homework/country_vaccinations.xls')"
   ]
  },
  {
   "cell_type": "markdown",
   "metadata": {
    "id": "OH-2y3mkL_KT"
   },
   "source": [
    "2."
   ]
  },
  {
   "cell_type": "code",
   "execution_count": 59,
   "metadata": {
    "colab": {
     "base_uri": "https://localhost:8080/",
     "height": 694
    },
    "executionInfo": {
     "elapsed": 586,
     "status": "ok",
     "timestamp": 1614675938959,
     "user": {
      "displayName": "Guillaume Witz",
      "photoUrl": "https://lh3.googleusercontent.com/a-/AOh14GgT0K2JVYzEsjzsS5nhkUVjUrSIJ5jHzXnBoYrmVf8=s64",
      "userId": "16033870147214403532"
     },
     "user_tz": -60
    },
    "id": "03iz9nMeLzFD",
    "outputId": "4e294a1a-191d-40ea-94fb-5aa07c9f9084"
   },
   "outputs": [
    {
     "data": {
      "text/html": [
       "<div>\n",
       "<style scoped>\n",
       "    .dataframe tbody tr th:only-of-type {\n",
       "        vertical-align: middle;\n",
       "    }\n",
       "\n",
       "    .dataframe tbody tr th {\n",
       "        vertical-align: top;\n",
       "    }\n",
       "\n",
       "    .dataframe thead th {\n",
       "        text-align: right;\n",
       "    }\n",
       "</style>\n",
       "<table border=\"1\" class=\"dataframe\">\n",
       "  <thead>\n",
       "    <tr style=\"text-align: right;\">\n",
       "      <th></th>\n",
       "      <th>country</th>\n",
       "      <th>iso_code</th>\n",
       "      <th>date</th>\n",
       "      <th>total_vaccinations</th>\n",
       "      <th>people_vaccinated</th>\n",
       "      <th>people_fully_vaccinated</th>\n",
       "      <th>daily_vaccinations_raw</th>\n",
       "      <th>daily_vaccinations</th>\n",
       "      <th>total_vaccinations_per_hundred</th>\n",
       "      <th>people_vaccinated_per_hundred</th>\n",
       "      <th>people_fully_vaccinated_per_hundred</th>\n",
       "      <th>daily_vaccinations_per_million</th>\n",
       "      <th>vaccines</th>\n",
       "      <th>source_name</th>\n",
       "      <th>source_website</th>\n",
       "    </tr>\n",
       "  </thead>\n",
       "  <tbody>\n",
       "    <tr>\n",
       "      <th>0</th>\n",
       "      <td>Albania</td>\n",
       "      <td>ALB</td>\n",
       "      <td>2021-01-10</td>\n",
       "      <td>0.0</td>\n",
       "      <td>0.0</td>\n",
       "      <td>NaN</td>\n",
       "      <td>NaN</td>\n",
       "      <td>NaN</td>\n",
       "      <td>0.00</td>\n",
       "      <td>0.00</td>\n",
       "      <td>NaN</td>\n",
       "      <td>NaN</td>\n",
       "      <td>Pfizer/BioNTech</td>\n",
       "      <td>Ministry of Health</td>\n",
       "      <td>https://shendetesia.gov.al/covid19-ministria-e...</td>\n",
       "    </tr>\n",
       "    <tr>\n",
       "      <th>1</th>\n",
       "      <td>Albania</td>\n",
       "      <td>ALB</td>\n",
       "      <td>2021-01-11</td>\n",
       "      <td>NaN</td>\n",
       "      <td>NaN</td>\n",
       "      <td>NaN</td>\n",
       "      <td>NaN</td>\n",
       "      <td>64.0</td>\n",
       "      <td>NaN</td>\n",
       "      <td>NaN</td>\n",
       "      <td>NaN</td>\n",
       "      <td>22.0</td>\n",
       "      <td>Pfizer/BioNTech</td>\n",
       "      <td>Ministry of Health</td>\n",
       "      <td>https://shendetesia.gov.al/covid19-ministria-e...</td>\n",
       "    </tr>\n",
       "    <tr>\n",
       "      <th>2</th>\n",
       "      <td>Albania</td>\n",
       "      <td>ALB</td>\n",
       "      <td>2021-01-12</td>\n",
       "      <td>128.0</td>\n",
       "      <td>128.0</td>\n",
       "      <td>NaN</td>\n",
       "      <td>NaN</td>\n",
       "      <td>64.0</td>\n",
       "      <td>0.00</td>\n",
       "      <td>0.00</td>\n",
       "      <td>NaN</td>\n",
       "      <td>22.0</td>\n",
       "      <td>Pfizer/BioNTech</td>\n",
       "      <td>Ministry of Health</td>\n",
       "      <td>https://shendetesia.gov.al/covid19-ministria-e...</td>\n",
       "    </tr>\n",
       "    <tr>\n",
       "      <th>3</th>\n",
       "      <td>Albania</td>\n",
       "      <td>ALB</td>\n",
       "      <td>2021-01-13</td>\n",
       "      <td>188.0</td>\n",
       "      <td>188.0</td>\n",
       "      <td>NaN</td>\n",
       "      <td>60.0</td>\n",
       "      <td>63.0</td>\n",
       "      <td>0.01</td>\n",
       "      <td>0.01</td>\n",
       "      <td>NaN</td>\n",
       "      <td>22.0</td>\n",
       "      <td>Pfizer/BioNTech</td>\n",
       "      <td>Ministry of Health</td>\n",
       "      <td>https://shendetesia.gov.al/covid19-ministria-e...</td>\n",
       "    </tr>\n",
       "    <tr>\n",
       "      <th>4</th>\n",
       "      <td>Albania</td>\n",
       "      <td>ALB</td>\n",
       "      <td>2021-01-14</td>\n",
       "      <td>266.0</td>\n",
       "      <td>266.0</td>\n",
       "      <td>NaN</td>\n",
       "      <td>78.0</td>\n",
       "      <td>66.0</td>\n",
       "      <td>0.01</td>\n",
       "      <td>0.01</td>\n",
       "      <td>NaN</td>\n",
       "      <td>23.0</td>\n",
       "      <td>Pfizer/BioNTech</td>\n",
       "      <td>Ministry of Health</td>\n",
       "      <td>https://shendetesia.gov.al/covid19-ministria-e...</td>\n",
       "    </tr>\n",
       "    <tr>\n",
       "      <th>...</th>\n",
       "      <td>...</td>\n",
       "      <td>...</td>\n",
       "      <td>...</td>\n",
       "      <td>...</td>\n",
       "      <td>...</td>\n",
       "      <td>...</td>\n",
       "      <td>...</td>\n",
       "      <td>...</td>\n",
       "      <td>...</td>\n",
       "      <td>...</td>\n",
       "      <td>...</td>\n",
       "      <td>...</td>\n",
       "      <td>...</td>\n",
       "      <td>...</td>\n",
       "      <td>...</td>\n",
       "    </tr>\n",
       "    <tr>\n",
       "      <th>3614</th>\n",
       "      <td>Wales</td>\n",
       "      <td>NaN</td>\n",
       "      <td>2021-02-15</td>\n",
       "      <td>803178.0</td>\n",
       "      <td>795927.0</td>\n",
       "      <td>7251.0</td>\n",
       "      <td>12967.0</td>\n",
       "      <td>24418.0</td>\n",
       "      <td>25.47</td>\n",
       "      <td>25.24</td>\n",
       "      <td>0.23</td>\n",
       "      <td>7745.0</td>\n",
       "      <td>Oxford/AstraZeneca, Pfizer/BioNTech</td>\n",
       "      <td>Government of the United Kingdom</td>\n",
       "      <td>https://coronavirus.data.gov.uk/details/health...</td>\n",
       "    </tr>\n",
       "    <tr>\n",
       "      <th>3615</th>\n",
       "      <td>Wales</td>\n",
       "      <td>NaN</td>\n",
       "      <td>2021-02-16</td>\n",
       "      <td>820339.0</td>\n",
       "      <td>807351.0</td>\n",
       "      <td>12988.0</td>\n",
       "      <td>17161.0</td>\n",
       "      <td>23033.0</td>\n",
       "      <td>26.02</td>\n",
       "      <td>25.61</td>\n",
       "      <td>0.41</td>\n",
       "      <td>7305.0</td>\n",
       "      <td>Oxford/AstraZeneca, Pfizer/BioNTech</td>\n",
       "      <td>Government of the United Kingdom</td>\n",
       "      <td>https://coronavirus.data.gov.uk/details/health...</td>\n",
       "    </tr>\n",
       "    <tr>\n",
       "      <th>3616</th>\n",
       "      <td>Wales</td>\n",
       "      <td>NaN</td>\n",
       "      <td>2021-02-17</td>\n",
       "      <td>841975.0</td>\n",
       "      <td>822633.0</td>\n",
       "      <td>19342.0</td>\n",
       "      <td>21636.0</td>\n",
       "      <td>22012.0</td>\n",
       "      <td>26.70</td>\n",
       "      <td>26.09</td>\n",
       "      <td>0.61</td>\n",
       "      <td>6982.0</td>\n",
       "      <td>Oxford/AstraZeneca, Pfizer/BioNTech</td>\n",
       "      <td>Government of the United Kingdom</td>\n",
       "      <td>https://coronavirus.data.gov.uk/details/health...</td>\n",
       "    </tr>\n",
       "    <tr>\n",
       "      <th>3617</th>\n",
       "      <td>Wales</td>\n",
       "      <td>NaN</td>\n",
       "      <td>2021-02-18</td>\n",
       "      <td>864498.0</td>\n",
       "      <td>839065.0</td>\n",
       "      <td>25433.0</td>\n",
       "      <td>22523.0</td>\n",
       "      <td>20649.0</td>\n",
       "      <td>27.42</td>\n",
       "      <td>26.61</td>\n",
       "      <td>0.81</td>\n",
       "      <td>6549.0</td>\n",
       "      <td>Oxford/AstraZeneca, Pfizer/BioNTech</td>\n",
       "      <td>Government of the United Kingdom</td>\n",
       "      <td>https://coronavirus.data.gov.uk/details/health...</td>\n",
       "    </tr>\n",
       "    <tr>\n",
       "      <th>3618</th>\n",
       "      <td>Wales</td>\n",
       "      <td>NaN</td>\n",
       "      <td>2021-02-19</td>\n",
       "      <td>885906.0</td>\n",
       "      <td>853904.0</td>\n",
       "      <td>32002.0</td>\n",
       "      <td>21408.0</td>\n",
       "      <td>18891.0</td>\n",
       "      <td>28.10</td>\n",
       "      <td>27.08</td>\n",
       "      <td>1.02</td>\n",
       "      <td>5992.0</td>\n",
       "      <td>Oxford/AstraZeneca, Pfizer/BioNTech</td>\n",
       "      <td>Government of the United Kingdom</td>\n",
       "      <td>https://coronavirus.data.gov.uk/details/health...</td>\n",
       "    </tr>\n",
       "  </tbody>\n",
       "</table>\n",
       "<p>3619 rows × 15 columns</p>\n",
       "</div>"
      ],
      "text/plain": [
       "      country  ...                                     source_website\n",
       "0     Albania  ...  https://shendetesia.gov.al/covid19-ministria-e...\n",
       "1     Albania  ...  https://shendetesia.gov.al/covid19-ministria-e...\n",
       "2     Albania  ...  https://shendetesia.gov.al/covid19-ministria-e...\n",
       "3     Albania  ...  https://shendetesia.gov.al/covid19-ministria-e...\n",
       "4     Albania  ...  https://shendetesia.gov.al/covid19-ministria-e...\n",
       "...       ...  ...                                                ...\n",
       "3614    Wales  ...  https://coronavirus.data.gov.uk/details/health...\n",
       "3615    Wales  ...  https://coronavirus.data.gov.uk/details/health...\n",
       "3616    Wales  ...  https://coronavirus.data.gov.uk/details/health...\n",
       "3617    Wales  ...  https://coronavirus.data.gov.uk/details/health...\n",
       "3618    Wales  ...  https://coronavirus.data.gov.uk/details/health...\n",
       "\n",
       "[3619 rows x 15 columns]"
      ]
     },
     "execution_count": 59,
     "metadata": {
      "tags": []
     },
     "output_type": "execute_result"
    }
   ],
   "source": [
    "vaccination"
   ]
  },
  {
   "cell_type": "markdown",
   "metadata": {
    "id": "L_M_NWs6L3EB"
   },
   "source": [
    "3."
   ]
  },
  {
   "cell_type": "code",
   "execution_count": 60,
   "metadata": {
    "colab": {
     "base_uri": "https://localhost:8080/",
     "height": 309
    },
    "executionInfo": {
     "elapsed": 500,
     "status": "ok",
     "timestamp": 1614675986278,
     "user": {
      "displayName": "Guillaume Witz",
      "photoUrl": "https://lh3.googleusercontent.com/a-/AOh14GgT0K2JVYzEsjzsS5nhkUVjUrSIJ5jHzXnBoYrmVf8=s64",
      "userId": "16033870147214403532"
     },
     "user_tz": -60
    },
    "id": "-V1hWyXlMB0K",
    "outputId": "02699d44-b004-4649-d0bf-66b93db4cf1b"
   },
   "outputs": [
    {
     "data": {
      "text/html": [
       "<div>\n",
       "<style scoped>\n",
       "    .dataframe tbody tr th:only-of-type {\n",
       "        vertical-align: middle;\n",
       "    }\n",
       "\n",
       "    .dataframe tbody tr th {\n",
       "        vertical-align: top;\n",
       "    }\n",
       "\n",
       "    .dataframe thead th {\n",
       "        text-align: right;\n",
       "    }\n",
       "</style>\n",
       "<table border=\"1\" class=\"dataframe\">\n",
       "  <thead>\n",
       "    <tr style=\"text-align: right;\">\n",
       "      <th></th>\n",
       "      <th>country</th>\n",
       "      <th>iso_code</th>\n",
       "      <th>date</th>\n",
       "      <th>total_vaccinations</th>\n",
       "      <th>people_vaccinated</th>\n",
       "      <th>people_fully_vaccinated</th>\n",
       "      <th>daily_vaccinations_raw</th>\n",
       "      <th>daily_vaccinations</th>\n",
       "      <th>total_vaccinations_per_hundred</th>\n",
       "      <th>people_vaccinated_per_hundred</th>\n",
       "      <th>people_fully_vaccinated_per_hundred</th>\n",
       "      <th>daily_vaccinations_per_million</th>\n",
       "      <th>vaccines</th>\n",
       "      <th>source_name</th>\n",
       "      <th>source_website</th>\n",
       "    </tr>\n",
       "  </thead>\n",
       "  <tbody>\n",
       "    <tr>\n",
       "      <th>0</th>\n",
       "      <td>Albania</td>\n",
       "      <td>ALB</td>\n",
       "      <td>2021-01-10</td>\n",
       "      <td>0.0</td>\n",
       "      <td>0.0</td>\n",
       "      <td>NaN</td>\n",
       "      <td>NaN</td>\n",
       "      <td>NaN</td>\n",
       "      <td>0.00</td>\n",
       "      <td>0.00</td>\n",
       "      <td>NaN</td>\n",
       "      <td>NaN</td>\n",
       "      <td>Pfizer/BioNTech</td>\n",
       "      <td>Ministry of Health</td>\n",
       "      <td>https://shendetesia.gov.al/covid19-ministria-e...</td>\n",
       "    </tr>\n",
       "    <tr>\n",
       "      <th>1</th>\n",
       "      <td>Albania</td>\n",
       "      <td>ALB</td>\n",
       "      <td>2021-01-11</td>\n",
       "      <td>NaN</td>\n",
       "      <td>NaN</td>\n",
       "      <td>NaN</td>\n",
       "      <td>NaN</td>\n",
       "      <td>64.0</td>\n",
       "      <td>NaN</td>\n",
       "      <td>NaN</td>\n",
       "      <td>NaN</td>\n",
       "      <td>22.0</td>\n",
       "      <td>Pfizer/BioNTech</td>\n",
       "      <td>Ministry of Health</td>\n",
       "      <td>https://shendetesia.gov.al/covid19-ministria-e...</td>\n",
       "    </tr>\n",
       "    <tr>\n",
       "      <th>2</th>\n",
       "      <td>Albania</td>\n",
       "      <td>ALB</td>\n",
       "      <td>2021-01-12</td>\n",
       "      <td>128.0</td>\n",
       "      <td>128.0</td>\n",
       "      <td>NaN</td>\n",
       "      <td>NaN</td>\n",
       "      <td>64.0</td>\n",
       "      <td>0.00</td>\n",
       "      <td>0.00</td>\n",
       "      <td>NaN</td>\n",
       "      <td>22.0</td>\n",
       "      <td>Pfizer/BioNTech</td>\n",
       "      <td>Ministry of Health</td>\n",
       "      <td>https://shendetesia.gov.al/covid19-ministria-e...</td>\n",
       "    </tr>\n",
       "    <tr>\n",
       "      <th>3</th>\n",
       "      <td>Albania</td>\n",
       "      <td>ALB</td>\n",
       "      <td>2021-01-13</td>\n",
       "      <td>188.0</td>\n",
       "      <td>188.0</td>\n",
       "      <td>NaN</td>\n",
       "      <td>60.0</td>\n",
       "      <td>63.0</td>\n",
       "      <td>0.01</td>\n",
       "      <td>0.01</td>\n",
       "      <td>NaN</td>\n",
       "      <td>22.0</td>\n",
       "      <td>Pfizer/BioNTech</td>\n",
       "      <td>Ministry of Health</td>\n",
       "      <td>https://shendetesia.gov.al/covid19-ministria-e...</td>\n",
       "    </tr>\n",
       "    <tr>\n",
       "      <th>4</th>\n",
       "      <td>Albania</td>\n",
       "      <td>ALB</td>\n",
       "      <td>2021-01-14</td>\n",
       "      <td>266.0</td>\n",
       "      <td>266.0</td>\n",
       "      <td>NaN</td>\n",
       "      <td>78.0</td>\n",
       "      <td>66.0</td>\n",
       "      <td>0.01</td>\n",
       "      <td>0.01</td>\n",
       "      <td>NaN</td>\n",
       "      <td>23.0</td>\n",
       "      <td>Pfizer/BioNTech</td>\n",
       "      <td>Ministry of Health</td>\n",
       "      <td>https://shendetesia.gov.al/covid19-ministria-e...</td>\n",
       "    </tr>\n",
       "  </tbody>\n",
       "</table>\n",
       "</div>"
      ],
      "text/plain": [
       "   country  ...                                     source_website\n",
       "0  Albania  ...  https://shendetesia.gov.al/covid19-ministria-e...\n",
       "1  Albania  ...  https://shendetesia.gov.al/covid19-ministria-e...\n",
       "2  Albania  ...  https://shendetesia.gov.al/covid19-ministria-e...\n",
       "3  Albania  ...  https://shendetesia.gov.al/covid19-ministria-e...\n",
       "4  Albania  ...  https://shendetesia.gov.al/covid19-ministria-e...\n",
       "\n",
       "[5 rows x 15 columns]"
      ]
     },
     "execution_count": 60,
     "metadata": {
      "tags": []
     },
     "output_type": "execute_result"
    }
   ],
   "source": [
    "vaccination.head(5)"
   ]
  },
  {
   "cell_type": "code",
   "execution_count": 61,
   "metadata": {
    "colab": {
     "base_uri": "https://localhost:8080/"
    },
    "executionInfo": {
     "elapsed": 444,
     "status": "ok",
     "timestamp": 1614675998737,
     "user": {
      "displayName": "Guillaume Witz",
      "photoUrl": "https://lh3.googleusercontent.com/a-/AOh14GgT0K2JVYzEsjzsS5nhkUVjUrSIJ5jHzXnBoYrmVf8=s64",
      "userId": "16033870147214403532"
     },
     "user_tz": -60
    },
    "id": "9VIqyfW3MEVC",
    "outputId": "b140dea3-683c-416f-c024-4958e744f939"
   },
   "outputs": [
    {
     "data": {
      "text/plain": [
       "country                                 object\n",
       "iso_code                                object\n",
       "date                                    object\n",
       "total_vaccinations                     float64\n",
       "people_vaccinated                      float64\n",
       "people_fully_vaccinated                float64\n",
       "daily_vaccinations_raw                 float64\n",
       "daily_vaccinations                     float64\n",
       "total_vaccinations_per_hundred         float64\n",
       "people_vaccinated_per_hundred          float64\n",
       "people_fully_vaccinated_per_hundred    float64\n",
       "daily_vaccinations_per_million         float64\n",
       "vaccines                                object\n",
       "source_name                             object\n",
       "source_website                          object\n",
       "dtype: object"
      ]
     },
     "execution_count": 61,
     "metadata": {
      "tags": []
     },
     "output_type": "execute_result"
    }
   ],
   "source": [
    "vaccination.dtypes"
   ]
  },
  {
   "cell_type": "markdown",
   "metadata": {
    "id": "1l-TPbAqMHYj"
   },
   "source": [
    "The ```dtypes``` property indicates the type of the data contained in all columns. We see that pure number columns like ```total_vaccinations``` are floating point numbers while text columns are broadly classified as ```object```."
   ]
  },
  {
   "cell_type": "markdown",
   "metadata": {
    "id": "ETqhOzlkM553"
   },
   "source": [
    "4. We first subselect the rows that contain a given country:"
   ]
  },
  {
   "cell_type": "code",
   "execution_count": 67,
   "metadata": {
    "executionInfo": {
     "elapsed": 529,
     "status": "ok",
     "timestamp": 1614676231514,
     "user": {
      "displayName": "Guillaume Witz",
      "photoUrl": "https://lh3.googleusercontent.com/a-/AOh14GgT0K2JVYzEsjzsS5nhkUVjUrSIJ5jHzXnBoYrmVf8=s64",
      "userId": "16033870147214403532"
     },
     "user_tz": -60
    },
    "id": "AKOZWdt0Mdzr"
   },
   "outputs": [],
   "source": [
    "subselect = vaccination[vaccination.country=='Switzerland']"
   ]
  },
  {
   "cell_type": "markdown",
   "metadata": {
    "id": "cAuodudxMvBK"
   },
   "source": [
    "Then we export it as CSV using the Pandas writer:"
   ]
  },
  {
   "cell_type": "code",
   "execution_count": 68,
   "metadata": {
    "executionInfo": {
     "elapsed": 486,
     "status": "ok",
     "timestamp": 1614676268579,
     "user": {
      "displayName": "Guillaume Witz",
      "photoUrl": "https://lh3.googleusercontent.com/a-/AOh14GgT0K2JVYzEsjzsS5nhkUVjUrSIJ5jHzXnBoYrmVf8=s64",
      "userId": "16033870147214403532"
     },
     "user_tz": -60
    },
    "id": "NE2Spv4vNFoh"
   },
   "outputs": [],
   "source": [
    "subselect.to_csv('CH.csv')"
   ]
  }
 ],
 "metadata": {
  "colab": {
   "collapsed_sections": [],
   "name": "00-Solution_homework.ipynb",
   "provenance": []
  },
  "kernelspec": {
   "display_name": "Python 3",
   "language": "python",
   "name": "python3"
  },
  "language_info": {
   "codemirror_mode": {
    "name": "ipython",
    "version": 3
   },
   "file_extension": ".py",
   "mimetype": "text/x-python",
   "name": "python",
   "nbconvert_exporter": "python",
   "pygments_lexer": "ipython3",
   "version": "3.6.10"
  }
 },
 "nbformat": 4,
 "nbformat_minor": 1
}
