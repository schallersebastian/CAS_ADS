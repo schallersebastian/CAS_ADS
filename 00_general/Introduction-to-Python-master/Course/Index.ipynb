{
 "cells": [
  {
   "cell_type": "markdown",
   "metadata": {},
   "source": [
    "This course is based on the books below and the corresponding Jupyter notebooks of *Jake VanderPlas*. The course in its original format can be found on Github [in the book](https://github.com/jakevdp/WhirlwindTourOfPython) and the second part comes from the [book](https://github.com/jakevdp/PythonDataScienceHandbook). As reading from and writing to a file is belonging also to the basics, Kinga Sipos created the complementray Chapter *01.14-File Input and Output*. Chapter *01.18-Plotting* was also added to provide a first experience with plotting in Python. Some other little details were created and/or changed. Finally extra exercises were added in order to enhance the interactivity of the course."
   ]
  },
  {
   "cell_type": "markdown",
   "metadata": {},
   "source": [
    "|First book|Second book|\n",
    "|:-:|:-:|\n",
    "|<img src=\"fig/cover-large.gif\" width=\"150\">|<img src=\"fig/PDSH-cover.png\" width=\"150\">|"
   ]
  },
  {
   "cell_type": "markdown",
   "metadata": {},
   "source": [
    "*A Whirlwind Tour of Python* is a fast-paced introduction to essential\n",
    "components of the Python language for researchers and developers.\n",
    "\n",
    "According to *Jake VanderPlas* the material is particularly aimed at those \n",
    "who wish to use Python for data \n",
    "science and/or scientific programming, and in this capacity serves as an\n",
    "introduction to his next book, *The Python Data Science Handbook*.\n",
    "These notebooks are adapted from lectures and workshops *Jake VanderPlas* has given on these\n",
    "topics at University of Washington and at various conferences, meetings, and\n",
    "workshops around the world.\n",
    "\n",
    "The Chapter about NumPy is already a more advanced chapter aimed for those, who would like to continue using Python for data analysis and for machine learning."
   ]
  },
  {
   "cell_type": "markdown",
   "metadata": {},
   "source": [
    "## Index\n",
    "\n",
    "Introduction to Python Programming\n",
    "\n",
    "0. [Introduction](00-Introduction.ipynb)\n",
    "1. [How to Run Python Code](01_01-How-to-Run-Python-Code.ipynb)\n",
    "2. [Basic Python Syntax](01_02-Basic-Python-Syntax.ipynb)\n",
    "3. [Python Semantics: Variables](01_03-Semantics-Variables.ipynb)\n",
    "4. [Python Semantics: Operators](01_04-Semantics-Operators.ipynb)\n",
    "5. [Built-In Scalar Types](01_05-Built-in-Scalar-Types.ipynb)\n",
    "6. [Built-In Data Structures](01_06-Built-in-Data-Structures.ipynb)\n",
    "7. [Control Flow Statements](01_07-Control-Flow-Statements.ipynb)\n",
    "8. [Defining Functions](01_08-Defining-Functions.ipynb)\n",
    "9. [Errors and Exceptions](01_09-Errors-and-Exceptions.ipynb)\n",
    "10. [Iterators](01_10-Iterators.ipynb)\n",
    "11. [List Comprehensions](01_11-List-Comprehensions.ipynb)\n",
    "12. [Generators and Generator Expressions](01_12-Generators.ipynb)\n",
    "13. [Strings and Regular Expressions](01_13-Strings-and-Regular-Expressions.ipynb)\n",
    "14. [File Input and Output](01_14-File-Input-and-Output.ipynb)\n",
    "15. [Modules and Packages](01_15-Modules-and-Packages.ipynb)\n",
    "16. [Preview of Data Science Tools](01_16-Preview-of-Data-Science-Tools.ipynb)\n",
    "17. [Resources for Further Learning](01_17-Further-Resources.ipynb)\n",
    "18. [Plotting](01_18-Plotting.ipynb)\n",
    "19. [Appendix: Figure Code](01_19-Figures.ipynb)\n",
    "20. [Exercises](01_20-Exercises.ipynb)\n",
    "21. [Solutions](01_21-Solutions.ipynb)\n",
    "\n",
    "The NumPy Package\n",
    "\n",
    "0. [Introduction to NumPy](02_00_Introduction_to_NumPy.ipynb)\n",
    "1. [Understanding Data Types in Python](02_01_Understanding_Data_Types.ipynb)\n",
    "2. [The Basics of NumPy Arrays](02_02_The_Basics_Of_NumPy_Arrays.ipynb)\n",
    "3. [Computation on NumPy Arrays: Universal Functions](02_03_Computation_on_arrays_ufuncs.ipynb)\n",
    "4. [Aggregations: Min, Max, and everything in Between](02_04_Computation_on_arrays_aggregates.ipynb)\n",
    "5. [Computation of Arrays: Broadcasting](02_05_Computation_on_arrays_broadcasting.ipynb)\n",
    "6. [Comparison, Makss, and Boolean Logic](02_06_Boolean_Arrays_and_Masks.ipynb)\n",
    "7. [Fancy Indexing](02_07_Fancy_Indexing.ipynb)\n",
    "8. [Sorting](02_08_Sorting.ipynb)\n",
    "9. [Structured Data: NumPy's structured Arrays](02_09_Structured_Data_NumPy.ipynb)"
   ]
  },
  {
   "cell_type": "markdown",
   "metadata": {},
   "source": [
    "## License\n",
    "\n",
    "The materials from *Jake VanderPlas* were modified respecting the licence they were published with. The *Introduction in Python Programming* modified material is released under the same \"No Rights Reserved\" [CC0](LICENSE)\n",
    "license, and thus you are free to re-use, modify, build-on, and enhance\n",
    "this material for any purpose.\n",
    "\n",
    "Respecting the wish of *Jake VanderPlast*, we include a proper attribution and/or citation of the materials consituting the basis of this course:\n",
    "\n",
    "> *A Whirlwind Tour of Python* by Jake VanderPlas (O’Reilly). Copyright 2016 O’Reilly Media, Inc., 978-1-491-96465-1\n",
    "\n",
    "Read more about CC0 [here](https://creativecommons.org/share-your-work/public-domain/cc0/).\n",
    "\n",
    "The code of *The NumPy Package* is released under the MIT license, as the original one.\n",
    "\n",
    "\"Permission is hereby granted, free of charge, to any person obtaining a copy\n",
    "of this software and associated documentation files (the \"Software\"), to deal\n",
    "in the Software without restriction, including without limitation the rights\n",
    "to use, copy, modify, merge, publish, distribute, sublicense, and/or sell\n",
    "copies of the Software, and to permit persons to whom the Software is\n",
    "furnished to do so, subject to the following conditions:\n",
    "\n",
    "The above copyright notice and this permission notice shall be included in all\n",
    "copies or substantial portions of the Software.\"\n",
    "\n",
    "The text content of *The NumPy Package* is released under the CC-BY-NC-ND license."
   ]
  }
 ],
 "metadata": {
  "anaconda-cloud": {},
  "kernelspec": {
   "display_name": "Python 3",
   "language": "python",
   "name": "python3"
  },
  "language_info": {
   "codemirror_mode": {
    "name": "ipython",
    "version": 3
   },
   "file_extension": ".py",
   "mimetype": "text/x-python",
   "name": "python",
   "nbconvert_exporter": "python",
   "pygments_lexer": "ipython3",
   "version": "3.6.10"
  }
 },
 "nbformat": 4,
 "nbformat_minor": 2
}
