{
 "cells": [
  {
   "cell_type": "markdown",
   "metadata": {},
   "source": [
    "<!--NAVIGATION-->\n",
    "< [Exercises](01_20-Exercises.ipynb) | [Contents](Index.ipynb) | [Introduction to NumPy](02_00_Introduction_to_NumPy) >"
   ]
  },
  {
   "cell_type": "markdown",
   "metadata": {},
   "source": [
    "# Solutions"
   ]
  },
  {
   "cell_type": "markdown",
   "metadata": {},
   "source": [
    "### Exercise 1\n",
    "\n",
    "Observe the syntax of the following code and comment on it line by line."
   ]
  },
  {
   "cell_type": "code",
   "execution_count": null,
   "metadata": {},
   "outputs": [],
   "source": [
    "x = 7 # assigns the value 7 to the variable x\n",
    "if x % 2 == 0: # checks whether x is a multiple of 2\n",
    "    print(x, 'is even.')\n",
    "    x /= 2 # divides x by 2\n",
    "    print('The half of x is', x)"
   ]
  },
  {
   "cell_type": "markdown",
   "metadata": {},
   "source": [
    "Compare the previous code to the following one. What do you observe as a syntactical difference? Does that impact the outcome of execution?"
   ]
  },
  {
   "cell_type": "code",
   "execution_count": null,
   "metadata": {},
   "outputs": [],
   "source": [
    "x = 7 # assigns the value 7 to the variable x\n",
    "if x % 2 == 0: # checks whether x is a multiple of 2\n",
    "    print(x, 'is even.')\n",
    "x /= 2 # divides x by 2\n",
    "print('The half of x is', x)"
   ]
  },
  {
   "cell_type": "markdown",
   "metadata": {},
   "source": [
    "### Solution\n",
    "\n",
    "Comments to the first code snippet:\n",
    "* line 1: No sign at the end of the command line, beginning of comment marked by the pound #.\n",
    "* line 2: Line ends with a colon, which indicates that a block code is following.\n",
    "* lines 3-5: Have the same indentation, thus they belong to the same block of code.\n",
    "\n",
    "Comparison of the two code snippets:\n",
    "* The only syntactical difference can be observed in the indentation of lines 4 and 5.\n",
    "* In the first case the execution of lines 4&5 is conditioned by the result of the test performed on line 2, while in the second case lines 4&5 are executed irrespective of the test performed on line 2. "
   ]
  },
  {
   "cell_type": "markdown",
   "metadata": {},
   "source": [
    "### Exercise 2\n",
    "\n",
    "Try out the following code snippets and compare them:"
   ]
  },
  {
   "cell_type": "code",
   "execution_count": null,
   "metadata": {},
   "outputs": [],
   "source": [
    "x = ['apples', 'pears']\n",
    "y = x\n",
    "y.append('grapes')\n",
    "print('x =', x)\n",
    "print('y =', y)"
   ]
  },
  {
   "cell_type": "code",
   "execution_count": null,
   "metadata": {},
   "outputs": [],
   "source": [
    "x = ['apples', 'pears']\n",
    "y = x\n",
    "x.append('grapes')\n",
    "print('x =', x)\n",
    "print('y =', y)"
   ]
  },
  {
   "cell_type": "code",
   "execution_count": null,
   "metadata": {},
   "outputs": [],
   "source": [
    "x = 5\n",
    "y = x\n",
    "x = x + 2\n",
    "print('x =', x)\n",
    "print('y =', y)"
   ]
  },
  {
   "cell_type": "code",
   "execution_count": null,
   "metadata": {},
   "outputs": [],
   "source": [
    "x = ['apples', 'pears']\n",
    "y = x\n",
    "x = [1, 2]\n",
    "print('x =', x)\n",
    "print('y =', y)"
   ]
  },
  {
   "cell_type": "markdown",
   "metadata": {},
   "source": [
    "### Solution\n",
    "\n",
    "**Compare 1st and 2nd code.** Lists are mutable objects. In the first two examples first is created a list. Then to the second list we assign the same value as to the first one (we let it point to the same object). Then we modify the second, respectively the first list. And because they are Pointing to the same object, both operations have the same effect: namely the value of both variables `x` and `y` are changed in the same way. \n",
    "\n",
    "**3rd code vs 1st & 2nd code.** Numbers are immutable objects. If we try to do something similar as with lists, the outcome is different. In the 3rd line of code 3 a new value is assigned to the variable `x`. So not the object to which `x` is pointing is changed, but `x` is pointing to a new object. That's why this change doesn't affect the value of `y`.\n",
    "\n",
    "**4th code vs previous ones.** `x` and `y` are pointing to the same list originally, but we reassign a new list to the variable `x`. By this we do not modify the value of the object assigned to `x`, but we assign a new object to it. This doesn't impact the object assigned to `y`."
   ]
  },
  {
   "cell_type": "markdown",
   "metadata": {},
   "source": [
    "### Exercise 3\n",
    "\n",
    "By combining operations test whether the value of a previously defined variable `x` \n",
    "1. is in the interval (3, 7],\n",
    "2. is even,\n",
    "3. gives a remainder of 3 after division by 4,\n",
    "and print out the result of your tests."
   ]
  },
  {
   "cell_type": "markdown",
   "metadata": {},
   "source": [
    "### Solution"
   ]
  },
  {
   "cell_type": "code",
   "execution_count": null,
   "metadata": {},
   "outputs": [],
   "source": [
    "x = 15\n",
    "if 3 < x <= 7:\n",
    "    print(x,'is in the interval (3,7].')\n",
    "else:\n",
    "    print(x,'is not in the interval (3,7].')"
   ]
  },
  {
   "cell_type": "code",
   "execution_count": null,
   "metadata": {},
   "outputs": [],
   "source": [
    "if x % 2 == 0:\n",
    "    print(x, 'is even.')\n",
    "else:\n",
    "    print(x, 'is odd.')"
   ]
  },
  {
   "cell_type": "code",
   "execution_count": null,
   "metadata": {},
   "outputs": [],
   "source": [
    "if x % 4 == 3:\n",
    "    print(x, 'gives the remainder 3 after division by 4.')\n",
    "else:\n",
    "    print(x, 'gives a different remainder than 3 after division by 4.')"
   ]
  },
  {
   "cell_type": "markdown",
   "metadata": {},
   "source": [
    "### Exercise 4\n",
    "\n",
    "Calculate the maximal value of a house for which you could get a loan from a bank in Switzerland by using the following formula\n",
    "\n",
    "$$V = \\frac{(B-U)\\cdot\\frac{1}{r}\\cdot\\left(1-\\frac{1}{(1+r)^n}\\right)}{\\frac{2}{15}+\\frac{2}{3}\\cdot\\left(1-\\frac{1}{(1+r)^n}\\right)},$$\n",
    "where $B$ is one third of your yearly income, $U$ stands for the yearly utility costs, $r$ is the yearly interest rate (for worst scenario banks use 5%) and $n$ is the number of years that you have until pension, assuming that at the time of the purchase you can pay for 20% of the house from your savings."
   ]
  },
  {
   "cell_type": "markdown",
   "metadata": {},
   "source": [
    "### Solution"
   ]
  },
  {
   "cell_type": "code",
   "execution_count": null,
   "metadata": {},
   "outputs": [],
   "source": [
    "B = 7500*12/3 #assuming a monthly income of 7500 CHF\n",
    "U = 5500\n",
    "r = 0.05\n",
    "n = 30\n",
    "V = (B-U)*1/r*(1-(1+r)**(-n))/(2/15 + 2/3*(1-(1+r)**(-n)))\n",
    "print(V)"
   ]
  },
  {
   "cell_type": "markdown",
   "metadata": {},
   "source": [
    "### Exercise 5\n",
    "\n",
    "Explain the following code snippets:\n",
    "\n",
    "a) "
   ]
  },
  {
   "cell_type": "code",
   "execution_count": null,
   "metadata": {},
   "outputs": [],
   "source": [
    "linetypes = {'solid': '-', 'dashed': '--', 'dash-dotted': '-.', 'dotted': ':'}\n",
    "print(linetypes)\n",
    "del linetypes['solid']\n",
    "print(linetypes)\n",
    "del linetypes\n",
    "print(linetypes)"
   ]
  },
  {
   "cell_type": "markdown",
   "metadata": {},
   "source": [
    "b)"
   ]
  },
  {
   "cell_type": "code",
   "execution_count": null,
   "metadata": {},
   "outputs": [],
   "source": [
    "ages_of_wine = [1, 2, 1, 2, 3, 3, 1, 1, 4, 4, 9, 8, 8, 9]\n",
    "print(ages_of_wine)\n",
    "del ages_of_wine[7:10]\n",
    "print(ages_of_wine)"
   ]
  },
  {
   "cell_type": "markdown",
   "metadata": {},
   "source": [
    "c)"
   ]
  },
  {
   "cell_type": "code",
   "execution_count": null,
   "metadata": {},
   "outputs": [],
   "source": [
    "ages_of_wine = (1, 2, 1, 2, 3, 3, 1, 1, 4, 4, 9, 8, 8, 9)\n",
    "print(ages_of_wine)\n",
    "del ages_of_wine[7:10]\n",
    "print(ages_of_wine)"
   ]
  },
  {
   "cell_type": "code",
   "execution_count": null,
   "metadata": {},
   "outputs": [],
   "source": [
    "del ages_of_wine\n",
    "print(ages_of_wine)"
   ]
  },
  {
   "cell_type": "markdown",
   "metadata": {},
   "source": [
    "### Solution\n",
    "\n",
    "Code a):\n",
    "1. line: a dictionary of linetypes is created\n",
    "2. line: the dictionary is printed out\n",
    "3. line: an item of the dictionary corresponding to the key 'solid' is deleted\n",
    "4. line: the modified dictionary is printed out\n",
    "5. line: the whole dictionary is deleted\n",
    "6. line: we try to print out something non-existing, therefore this line produces NameError\n",
    "\n",
    "Code b):\n",
    "1. line: a list with ages of wines is created\n",
    "2. line: the list is printed out\n",
    "3. line: a slice of the list os deleted\n",
    "4. line: the modified list is printed out\n",
    "\n",
    "Code c):\n",
    "1. line: the same values as in code b) are now used to define a tuple\n",
    "2. line: the tuple is printed out\n",
    "3. line: we ask for the deletion of a slice of the tuple, which raises a TypeError, because tuples are immutable, so they do not support deletion of a slice. \n",
    "However, as we observe in the next two lines of code, one can delete a tuple and afterwards trying to access it gives the same NameError as in case of all other data types."
   ]
  },
  {
   "cell_type": "markdown",
   "metadata": {},
   "source": [
    "### Exercise 6\n",
    "\n",
    "In our decimal system we are used to the property that we can multiply a number by 10 by adding a 0 digit to the end of the number. \n",
    "\n",
    "Check on examples whether a similar property holds in the binary system as well, namely whether multiplication by two can be performed on the binary form of numbers by writing a digit 0 to the end of the number. "
   ]
  },
  {
   "cell_type": "markdown",
   "metadata": {},
   "source": [
    "### Solution"
   ]
  },
  {
   "cell_type": "markdown",
   "metadata": {},
   "source": [
    "Choose any number to display its binary form."
   ]
  },
  {
   "cell_type": "code",
   "execution_count": null,
   "metadata": {},
   "outputs": [],
   "source": [
    "x = 4\n",
    "bin(x)"
   ]
  },
  {
   "cell_type": "markdown",
   "metadata": {},
   "source": [
    "Display the binary form of the double of the chosen number."
   ]
  },
  {
   "cell_type": "code",
   "execution_count": null,
   "metadata": {},
   "outputs": [],
   "source": [
    "bin(2*x)"
   ]
  },
  {
   "cell_type": "markdown",
   "metadata": {},
   "source": [
    "You can check also mathematically that the property holds for all inputs."
   ]
  },
  {
   "cell_type": "markdown",
   "metadata": {},
   "source": [
    "### Exercise 7\n",
    "\n",
    "Print out every second element of a list."
   ]
  },
  {
   "cell_type": "markdown",
   "metadata": {},
   "source": [
    "### Solution"
   ]
  },
  {
   "cell_type": "code",
   "execution_count": 30,
   "metadata": {},
   "outputs": [
    {
     "name": "stdout",
     "output_type": "stream",
     "text": [
      "[3, 7, 2, 8]\n"
     ]
    }
   ],
   "source": [
    "L = [2, 3, 1, 7, 9, 2, 4, 8, 10]\n",
    "print(L[1::2])"
   ]
  },
  {
   "cell_type": "markdown",
   "metadata": {},
   "source": [
    "Alternatively one can loop over a list as well:"
   ]
  },
  {
   "cell_type": "code",
   "execution_count": 32,
   "metadata": {},
   "outputs": [
    {
     "name": "stdout",
     "output_type": "stream",
     "text": [
      "3\n",
      "7\n",
      "2\n",
      "8\n"
     ]
    }
   ],
   "source": [
    "for i in range(0, len(L)):\n",
    "    if i % 2 == 1:\n",
    "        print(L[i])"
   ]
  },
  {
   "cell_type": "markdown",
   "metadata": {},
   "source": [
    "### Exercise 8\n",
    "\n",
    "* Determine the maximal element of a list of real numbers.\n",
    "* Determine the maximal element of a list and the position where is this maximum reached."
   ]
  },
  {
   "cell_type": "markdown",
   "metadata": {},
   "source": [
    "### Solution"
   ]
  },
  {
   "cell_type": "code",
   "execution_count": null,
   "metadata": {},
   "outputs": [],
   "source": [
    "L = [7, 2, 3, 1, 5, 1, 7]\n",
    "Maximum = max(L)\n",
    "print(\"Maximum: \" + str(Maximum))"
   ]
  },
  {
   "cell_type": "markdown",
   "metadata": {},
   "source": [
    "For the second part of the problem there are different approaches possible. First let's see the less elegant approach. The other approach will come later in the chapter of the List comprehensions."
   ]
  },
  {
   "cell_type": "code",
   "execution_count": null,
   "metadata": {},
   "outputs": [],
   "source": [
    "PositionsOfMax = []\n",
    "for i in range(len(L)):\n",
    "    if L[i] == Maximum:\n",
    "        PositionsOfMax.append(i)\n",
    "print(\"Positions of the maximum: \", PositionsOfMax)"
   ]
  },
  {
   "cell_type": "markdown",
   "metadata": {},
   "source": [
    "### Exercise 9\n",
    "\n",
    "1. Create a dictionary, which contains as keys all the elements of a list and as values the corresponding number of occurences in the list.\n",
    "For example for the list \n",
    "```L = [1, 2, 3, 2]```\n",
    "the corresponding dictionary would be\n",
    "```{1:1, 2: 2, 3:1}```.\n",
    "\n",
    "2. Knowing that the year started with a day of Monday, determine on what day of the week would fall the 100-th, 243-th, 301-th day of the year."
   ]
  },
  {
   "cell_type": "markdown",
   "metadata": {},
   "source": [
    "### Solution to part 1"
   ]
  },
  {
   "cell_type": "code",
   "execution_count": null,
   "metadata": {},
   "outputs": [],
   "source": [
    "L = [1, 2, \"a\", 2, 3, 2, 2, 2, \"a\"]\n",
    "D = {}\n",
    "for element in L:\n",
    "    if element in D.keys():\n",
    "        D[element] = D[element] + 1\n",
    "    else:\n",
    "        D[element] = 1\n",
    "print(D)"
   ]
  },
  {
   "cell_type": "markdown",
   "metadata": {},
   "source": [
    "### Solution to part 2\n",
    "\n",
    "without dictionaries"
   ]
  },
  {
   "cell_type": "code",
   "execution_count": null,
   "metadata": {},
   "outputs": [],
   "source": [
    "DayOfYear = 100\n",
    "DayOfWeekInCode = 100 % 7\n",
    "\n",
    "if DayOfWeekInCode == 0:\n",
    "    print(\"Sunday\")\n",
    "elif DayOfWeekInCode == 1:\n",
    "    print(\"Monday\")\n",
    "elif DayOfWeekInCode == 2:\n",
    "    print(\"Tuesday\")\n",
    "elif DayOfWeekInCode == 3:\n",
    "    print(\"Wednesday\")\n",
    "elif DayOfWeekInCode == 4:\n",
    "    print(\"Thursday\")\n",
    "elif DayOfWeekInCode == 5:\n",
    "    print(\"Friday\")\n",
    "else:\n",
    "    print(\"Saturday\")"
   ]
  },
  {
   "cell_type": "markdown",
   "metadata": {},
   "source": [
    "with dictionaries"
   ]
  },
  {
   "cell_type": "code",
   "execution_count": null,
   "metadata": {},
   "outputs": [],
   "source": [
    "DayOfYear = 100\n",
    "DayOfWeekInCode = 100 % 7\n",
    "WeekDaysFromCodes = {0: \"Sunday\", 1: \"Monday\", 2: \"Tuesday\", 3: \"Wednesday\", 4: \"Thursday\", 5: \"Friday\", 6: \"Saturday\"}\n",
    "\n",
    "print(WeekDaysFromCodes[DayOfWeekInCode])"
   ]
  },
  {
   "cell_type": "markdown",
   "metadata": {},
   "source": [
    "### Exercise 10\n",
    "\n",
    "We consider three categories of major allergy factors: milk, gluten and nuts. From all the participants of a dietary seminar we got the information whether they are allergic to these individual factors. We denote the participants by $P_1, P_2, \\ldots, P_{30}$. The collected information is summarized in the following code:"
   ]
  },
  {
   "cell_type": "code",
   "execution_count": null,
   "metadata": {},
   "outputs": [],
   "source": [
    "milk = {'P1', 'P3', 'P7', 'P10', 'P18'} #people being allergic to milk\n",
    "gluten = {'P1', 'P10', 'P5', 'P22', 'P18'} #people being allergic to milk\n",
    "nuts = {'P5', 'P10', 'P27'} #people being allergic to nuts"
   ]
  },
  {
   "cell_type": "markdown",
   "metadata": {},
   "source": [
    "1. Who is allergic to milk, gluten and nuts, as well?\n",
    "\n",
    "2. Determine with set operations, which participants are allergic to exactly one factor."
   ]
  },
  {
   "cell_type": "markdown",
   "metadata": {},
   "source": [
    "### Solution to part 1"
   ]
  },
  {
   "cell_type": "markdown",
   "metadata": {},
   "source": [
    "The answer is given by the intersection of all three sets"
   ]
  },
  {
   "cell_type": "code",
   "execution_count": null,
   "metadata": {},
   "outputs": [],
   "source": [
    "milk & gluten & nuts"
   ]
  },
  {
   "cell_type": "markdown",
   "metadata": {},
   "source": [
    "### Solution to part 2"
   ]
  },
  {
   "cell_type": "markdown",
   "metadata": {},
   "source": [
    "First we determine the individuals, who are allergic to milk, but not on gluten and not on nut"
   ]
  },
  {
   "cell_type": "code",
   "execution_count": null,
   "metadata": {},
   "outputs": [],
   "source": [
    "milk - (gluten | nuts)"
   ]
  },
  {
   "cell_type": "markdown",
   "metadata": {},
   "source": [
    "Similarly the ones who are allergic just to gluten are the following"
   ]
  },
  {
   "cell_type": "code",
   "execution_count": null,
   "metadata": {},
   "outputs": [],
   "source": [
    "gluten - (milk | nuts)"
   ]
  },
  {
   "cell_type": "markdown",
   "metadata": {},
   "source": [
    "And the ones who are allergic exclusively to nuts are"
   ]
  },
  {
   "cell_type": "code",
   "execution_count": null,
   "metadata": {},
   "outputs": [],
   "source": [
    "nuts - (milk | gluten)"
   ]
  },
  {
   "cell_type": "markdown",
   "metadata": {},
   "source": [
    "The union of these three sets gives us the desired answer:"
   ]
  },
  {
   "cell_type": "code",
   "execution_count": null,
   "metadata": {},
   "outputs": [],
   "source": [
    "(milk - (gluten | nuts)) | (gluten - (milk | nuts)) | (nuts - (milk | gluten))"
   ]
  },
  {
   "cell_type": "markdown",
   "metadata": {},
   "source": [
    "The ones familiar with the symmetric differences might have obtained the same result with"
   ]
  },
  {
   "cell_type": "code",
   "execution_count": null,
   "metadata": {},
   "outputs": [],
   "source": [
    "milk ^ gluten ^ nuts - (milk & gluten & nuts)"
   ]
  },
  {
   "cell_type": "markdown",
   "metadata": {},
   "source": [
    "### Exercise 11\n",
    "\n",
    "1. Write code which checks whether a given number ```a``` is a multiple of ```b``` and write your result as a text message.\n",
    "2. A leap year is a year of 366 days in the Gregorian calendar. It is a year whose number is exactly divisible by 4, or, in case of the final year of a century, by 400. Determine whether a given year is leapyear or not."
   ]
  },
  {
   "cell_type": "markdown",
   "metadata": {},
   "source": [
    "### Solution to part 1\n",
    "\n",
    "Pay attention to the way the result is printed out. To find out more about the possibility of formatting the output take a look at the following links: [formatted output 2](https://www.python-course.eu/python3_formatted_output.php), [formatted output 2](https://pyformat.info/)."
   ]
  },
  {
   "cell_type": "code",
   "execution_count": null,
   "metadata": {},
   "outputs": [],
   "source": [
    "a = 20\n",
    "b = 6\n",
    "if a % b == 0:\n",
    "    print(\"{} is a multiple of {}.\".format(a,b))\n",
    "else:\n",
    "    print(\"{} is not a multiple of {}.\".format(a,b))"
   ]
  },
  {
   "cell_type": "markdown",
   "metadata": {},
   "source": [
    "### Solution to part 2"
   ]
  },
  {
   "cell_type": "code",
   "execution_count": null,
   "metadata": {},
   "outputs": [],
   "source": [
    "year = 23\n",
    "LeapYear = False\n",
    "if year % 4 == 0:\n",
    "    if year % 100 == 0:\n",
    "        if year % 400 == 0:\n",
    "            LeapYear = True\n",
    "        else:\n",
    "            LeapYear = False\n",
    "    else:\n",
    "        LeapYear = True\n",
    "else:\n",
    "    LeapYear = False\n",
    "print(LeapYear)"
   ]
  },
  {
   "cell_type": "markdown",
   "metadata": {},
   "source": [
    "### Exercise 12\n",
    "\n",
    "Determine the starting position and ending position of the longest sequence of consecutive 0-s in a given list."
   ]
  },
  {
   "cell_type": "markdown",
   "metadata": {},
   "source": [
    "### Solution"
   ]
  },
  {
   "cell_type": "code",
   "execution_count": null,
   "metadata": {},
   "outputs": [],
   "source": [
    "l = [1, 0, 0, 1, 2, -1, 3, 0, 0, 0, 0, 0]"
   ]
  },
  {
   "cell_type": "code",
   "execution_count": null,
   "metadata": {},
   "outputs": [],
   "source": [
    "maxlength = 0\n",
    "firstzero_pos = l.index(0)\n",
    "i = firstzero_pos\n",
    "if firstzero_pos >= 0:\n",
    "    length = 1\n",
    "    i = i + 1\n",
    "    while i < len(l):\n",
    "        if l[i] == 0 and l[i-1] == 0:\n",
    "            length += 1\n",
    "        elif l[i-1] == 0:\n",
    "            lastzero_pos = i - 1\n",
    "            if maxlength < length:\n",
    "                maxlength = length\n",
    "                start = firstzero_pos\n",
    "                end = lastzero_pos\n",
    "        elif l[i] == 0:\n",
    "            firstzero_pos = i\n",
    "            length = 1\n",
    "        i = i + 1\n",
    "    if maxlength < length:\n",
    "        maxlength = length\n",
    "        start = firstzero_pos\n",
    "        end = lastzero_pos\n",
    "else:\n",
    "    maxlength = 0\n",
    "    start = -1\n",
    "    end = -1\n",
    "    \n",
    "    \n",
    "print(\"Maximal length:\" + str(maxlength))\n",
    "print(\"Start:\" + str(start))\n",
    "print(\"End:\" + str(end))"
   ]
  },
  {
   "cell_type": "markdown",
   "metadata": {},
   "source": [
    "### Exercise 13\n",
    "\n",
    "Turn back to the exercises in Chapters about Control flow statements (Chapter 6) and Built-in data structures (Cahpter 7) and create out of them meaningful functions. "
   ]
  },
  {
   "cell_type": "markdown",
   "metadata": {},
   "source": [
    "### Solution\n",
    "\n",
    "We will just exemplify this process of transforming a reusable block of code into a function, by identifying its inputs and outputs and putting its text in the body of a function."
   ]
  },
  {
   "cell_type": "code",
   "execution_count": null,
   "metadata": {},
   "outputs": [],
   "source": [
    "def OccurencesInList(L):\n",
    "    \"\"\"For the given list L the function returns a dictionary having as keys the pairwise different elements of the list and the corresponding values indicate the number of occurences.\"\"\"\n",
    "    D = {}\n",
    "    for element in L:\n",
    "        if element in D.keys():\n",
    "            D[element] = D[element] + 1\n",
    "        else:\n",
    "            D[element] = 1\n",
    "    return(D)"
   ]
  },
  {
   "cell_type": "markdown",
   "metadata": {},
   "source": [
    "We call the function for a given list."
   ]
  },
  {
   "cell_type": "code",
   "execution_count": null,
   "metadata": {},
   "outputs": [],
   "source": [
    "OccurencesInList([\"asd\", 2, 3, 1, 2, \"asd\", \"asd\"])"
   ]
  },
  {
   "cell_type": "markdown",
   "metadata": {},
   "source": [
    "Another function:"
   ]
  },
  {
   "cell_type": "code",
   "execution_count": null,
   "metadata": {},
   "outputs": [],
   "source": [
    "def IsLeapYear(year):\n",
    "    \"\"\"For a given year the function returns a Boolean variable telling whether the year is a leap year.\"\"\"\n",
    "    LeapYear = False\n",
    "    if year % 4 == 0:\n",
    "        if year % 100 == 0:\n",
    "            if year % 400 == 0:\n",
    "                LeapYear = True\n",
    "            else:\n",
    "                LeapYear = False\n",
    "        else:\n",
    "            LeapYear = True\n",
    "    else:\n",
    "        LeapYear = False\n",
    "    return LeapYear"
   ]
  },
  {
   "cell_type": "markdown",
   "metadata": {},
   "source": [
    "We test the function for the input year 203."
   ]
  },
  {
   "cell_type": "code",
   "execution_count": null,
   "metadata": {},
   "outputs": [],
   "source": [
    "IsLeapYear(203)"
   ]
  },
  {
   "cell_type": "markdown",
   "metadata": {},
   "source": [
    "### Exercise 14\n",
    "\n",
    "1. Let's come back to one of our previous exercise contexts. Create a function out of one of them and raise an error in this function.\n",
    "2. Call the above function for an input, which will raise an exception, catch the error that you raised in your function and redefine the reaction to it."
   ]
  },
  {
   "cell_type": "markdown",
   "metadata": {},
   "source": [
    "### Solution\n",
    "\n",
    "1. Let's create a function that raises an error and try it out."
   ]
  },
  {
   "cell_type": "code",
   "execution_count": null,
   "metadata": {},
   "outputs": [],
   "source": [
    "def Is_PosNegZero(x):\n",
    "    if isinstance(x,float) or isinstance(x, int):\n",
    "        if x == 0:\n",
    "            return \"is zero\"\n",
    "        elif x > 0:\n",
    "            return \"is positive\"\n",
    "        else:\n",
    "            return \"is negative\"\n",
    "    else:\n",
    "        raise TypeError(\"The input variable is not supported. The function can be called just for real numbers.\")"
   ]
  },
  {
   "cell_type": "code",
   "execution_count": null,
   "metadata": {},
   "outputs": [],
   "source": [
    "Is_PosNegZero(\"one\")"
   ]
  },
  {
   "cell_type": "markdown",
   "metadata": {},
   "source": [
    "2. Let's call the above function and suppress the reaction to the error."
   ]
  },
  {
   "cell_type": "code",
   "execution_count": null,
   "metadata": {},
   "outputs": [],
   "source": [
    "x = \"vbn\"\n",
    "try:\n",
    "    Is_PosNegZero(x)\n",
    "except:\n",
    "    print(\"Next time give me as input a real number.\")"
   ]
  },
  {
   "cell_type": "markdown",
   "metadata": {},
   "source": [
    "### Exercise 15\n",
    "\n",
    "Consider whether enumerate could be used to determine all the positions in a list, which contain the maximal element."
   ]
  },
  {
   "cell_type": "markdown",
   "metadata": {},
   "source": [
    "### Solution"
   ]
  },
  {
   "cell_type": "code",
   "execution_count": null,
   "metadata": {},
   "outputs": [],
   "source": [
    "L = [2, 5, 1, -1, 5, 3]\n",
    "maxpos = []\n",
    "Max = max(L)\n",
    "for i, val in enumerate(L):\n",
    "    if val == Max:\n",
    "        maxpos.append(i)\n",
    "print(maxpos)"
   ]
  },
  {
   "cell_type": "markdown",
   "metadata": {},
   "source": [
    "### Exercise 16\n",
    "\n",
    "A perfect number is a positive integer that is equal to the sum of its positive divisors, excluding the number itself. Write a function which determines whether a number is perfect. Print out all the perfect numbers until 1000."
   ]
  },
  {
   "cell_type": "markdown",
   "metadata": {},
   "source": [
    "### Solution\n",
    "\n",
    "First let's create the function telling whether the number is perfect."
   ]
  },
  {
   "cell_type": "code",
   "execution_count": null,
   "metadata": {},
   "outputs": [],
   "source": [
    "def isperfect(x):\n",
    "    \"\"\"Determines whether the input number x is a perfect number.\"\"\"\n",
    "    if type(x) != int:\n",
    "        raise ValueError(\"The input value should be integer.\")\n",
    "    else:\n",
    "        sumofdivisors = 0\n",
    "        for i in range(x//2):\n",
    "            if x % (i+1) == 0:\n",
    "                sumofdivisors += i+1\n",
    "        return (sumofdivisors == x) & (x > 0)"
   ]
  },
  {
   "cell_type": "code",
   "execution_count": null,
   "metadata": {},
   "outputs": [],
   "source": [
    "isperfect(6)"
   ]
  },
  {
   "cell_type": "markdown",
   "metadata": {},
   "source": [
    "We will use the filter to print out all the perfect numbers in the specified range."
   ]
  },
  {
   "cell_type": "code",
   "execution_count": null,
   "metadata": {},
   "outputs": [],
   "source": [
    "for val in filter(isperfect, range(1000)):\n",
    "    print(val, end=' ')"
   ]
  },
  {
   "cell_type": "markdown",
   "metadata": {},
   "source": [
    "### Exercise 17\n",
    "\n",
    "Rewrite the `[n ** 2 for n in range(12)]` code block with `map` and `lambda`."
   ]
  },
  {
   "cell_type": "markdown",
   "metadata": {},
   "source": [
    "### Solution"
   ]
  },
  {
   "cell_type": "code",
   "execution_count": null,
   "metadata": {},
   "outputs": [],
   "source": [
    "list(map(lambda x:x**2, range(12)))"
   ]
  },
  {
   "cell_type": "markdown",
   "metadata": {},
   "source": [
    "If we compare the result of our code to the one from the text of the exercise, we observe that they provide the same result, that is"
   ]
  },
  {
   "cell_type": "code",
   "execution_count": null,
   "metadata": {},
   "outputs": [],
   "source": [
    "[n ** 2 for n in range(12)]"
   ]
  },
  {
   "cell_type": "markdown",
   "metadata": {},
   "source": [
    "### Exercise 18\n",
    "\n",
    "Rewrite `[val for val in range(20) if val % 3 > 0]` with `filter` and `lambda`."
   ]
  },
  {
   "cell_type": "markdown",
   "metadata": {},
   "source": [
    "### Solution"
   ]
  },
  {
   "cell_type": "code",
   "execution_count": null,
   "metadata": {},
   "outputs": [],
   "source": [
    "list(filter(lambda val: val % 3 > 0, range(20)))"
   ]
  },
  {
   "cell_type": "markdown",
   "metadata": {},
   "source": [
    "If we compare the result of our code to the one from the text of the exercise, we observe that they provide the same result, that is"
   ]
  },
  {
   "cell_type": "code",
   "execution_count": null,
   "metadata": {},
   "outputs": [],
   "source": [
    "[val for val in range(20) if val % 3 > 0]"
   ]
  },
  {
   "cell_type": "markdown",
   "metadata": {},
   "source": [
    "### Exercise 19\n",
    "\n",
    "Use string manipulation to write a function, which returns those rows of the input text `t`, which contain the string `s`.\n",
    "\n",
    "Search with this function for the word \"translated\" in the haikus of Fodor Ákos."
   ]
  },
  {
   "cell_type": "code",
   "execution_count": null,
   "metadata": {},
   "outputs": [],
   "source": [
    "mytext = \"\"\"WORKSHOP HAIKU\n",
    "translated by Éva Antal\n",
    "\n",
    "Perhaps do not even touch it.\n",
    "Just look at it, look at it,\n",
    "until it becomes beautiful.\n",
    "\n",
    " \n",
    "\n",
    "TEST QUESTION FOR EVERY DAY\n",
    "translated by Éva Antal\n",
    "\n",
    "Do you still see\n",
    "what you look at, or you only\n",
    "know: \"there\" \"it\" \"is\"?\n",
    "\n",
    " \n",
    "\n",
    "FROM THE BEST OF INTENTIONS\n",
    "translated by Gábor G. Gyukics and Michael Castro\n",
    "\n",
    "fall asleep;\n",
    "die the same way a child\n",
    "bites into an apple.\n",
    "\n",
    " \n",
    "\n",
    "MEETING\n",
    "translated by Gábor G. Gyukics and Michael Castro\n",
    "\n",
    "I plan it as a farewell\n",
    "\n",
    " \n",
    "\n",
    "THE HAIKU\n",
    "translated by Tamás Révbíró\n",
    "\n",
    "in front of my feet\n",
    "a bird sat, and then took flight.\n",
    "Now I'm heavier.\n",
    "\n",
    " \n",
    "\n",
    "AXIOM\n",
    "translated by Tamás Révbíró\n",
    "\n",
    "You should try and help\n",
    "everything to be the way\n",
    "it is anyway.\n",
    "\n",
    " \n",
    "\n",
    "ECHO ON EPICTETUS\n",
    "translated by Tamás Révbíró\n",
    "\n",
    "Don't say, \"I lost it\",\n",
    "about anything. Rather\n",
    "say, \"I gave it back\".\n",
    "\n",
    " \n",
    "\n",
    "AXIOM\n",
    "translated by Tamás Révbíró\n",
    "\n",
    "Parents and killers:\n",
    "almost-innocent servants.\n",
    "They just execute.\n",
    "\n",
    " \n",
    "\n",
    "ZENsation\n",
    "translated by Tamás Révbíró\n",
    "\n",
    "Look, the snow gives body to the wind!\n",
    "\n",
    " \n",
    "\n",
    "DISILLUSIONIST\n",
    "translated by Tamás Révbíró\n",
    "\n",
    "Why should I travel\n",
    "when I can be a stranger\n",
    "right here, standing still?\"\"\""
   ]
  },
  {
   "cell_type": "markdown",
   "metadata": {},
   "source": [
    "### Solution\n",
    "\n",
    "We summarize the steps which lead to the desired result:\n",
    "- First we split the text into lines."
   ]
  },
  {
   "cell_type": "code",
   "execution_count": null,
   "metadata": {},
   "outputs": [],
   "source": [
    "mytext.splitlines()"
   ]
  },
  {
   "cell_type": "markdown",
   "metadata": {},
   "source": [
    "- We print the lines containing the chosen word."
   ]
  },
  {
   "cell_type": "code",
   "execution_count": null,
   "metadata": {},
   "outputs": [],
   "source": [
    "mystring = \"translated\"\n",
    "for l in mytext.splitlines():\n",
    "    if l.find(s) >= 0:\n",
    "        print(l)"
   ]
  },
  {
   "cell_type": "markdown",
   "metadata": {},
   "source": [
    "- Now let's put the commands in a function, where instead of printing the lines out, we put them into a list, that the function will return."
   ]
  },
  {
   "cell_type": "code",
   "execution_count": null,
   "metadata": {},
   "outputs": [],
   "source": [
    "def FindsInRow(t, s):\n",
    "    \"\"\"Returns those rows of the input text t, which contain the string s.\"\"\"\n",
    "    \n",
    "    rows2return = []\n",
    "    for l in t.splitlines():\n",
    "        if l.find(s) >= 0:\n",
    "            rows2return.append(l)\n",
    "    return rows2return"
   ]
  },
  {
   "cell_type": "code",
   "execution_count": null,
   "metadata": {},
   "outputs": [],
   "source": [
    "FindsInRow(mytext,mystring)"
   ]
  },
  {
   "cell_type": "markdown",
   "metadata": {},
   "source": [
    "Finally we can compactify the definition of the functionby using list comprehensions."
   ]
  },
  {
   "cell_type": "code",
   "execution_count": null,
   "metadata": {
    "code_folding": []
   },
   "outputs": [],
   "source": [
    "def FindsInRow_s(t, s):\n",
    "    \"\"\"Returns those rows of the input text t, which contain the string s.\"\"\"\n",
    "    \n",
    "    return [l for l in t.splitlines() if l.find(s) >= 0]"
   ]
  },
  {
   "cell_type": "code",
   "execution_count": null,
   "metadata": {},
   "outputs": [],
   "source": [
    "FindsInRow_s(mytext,mystring)"
   ]
  },
  {
   "cell_type": "markdown",
   "metadata": {},
   "source": [
    "### Exercise 20\n",
    "\n",
    "Compare the outcome of the following two code snippets."
   ]
  },
  {
   "cell_type": "code",
   "execution_count": null,
   "metadata": {},
   "outputs": [],
   "source": [
    "import csv\n",
    "\n",
    "with open('employee_file.csv', mode='w') as employee_file:\n",
    "    employee_writer = csv.writer(employee_file, delimiter=',', quotechar='\"', quoting=csv.QUOTE_MINIMAL)\n",
    "\n",
    "    employee_writer.writerow(['John Smith', 'Accounting', 'November', '27'])\n",
    "    employee_writer.writerow(['Erica Meyers', 'IT', 'March', '31'])"
   ]
  },
  {
   "cell_type": "code",
   "execution_count": null,
   "metadata": {},
   "outputs": [],
   "source": [
    "import csv\n",
    "\n",
    "with open('employee_file2.csv', mode='w') as csv_file:\n",
    "    fieldnames = ['emp_name', 'dept', 'birth_month', 'age']\n",
    "    writer = csv.DictWriter(csv_file, fieldnames=fieldnames)\n",
    "\n",
    "    writer.writeheader()\n",
    "    writer.writerow({'emp_name': 'John Smith', 'dept': 'Accounting', 'birth_month': 'November', 'age': '27'})\n",
    "    writer.writerow({'emp_name': 'Erica Meyers', 'dept': 'IT', 'birth_month': 'March', 'age': 31})"
   ]
  },
  {
   "cell_type": "markdown",
   "metadata": {},
   "source": [
    "### Solution\n",
    "\n",
    "Comapring the output files, we can observe that the second file contains also meaningful headers for the data, while the first one not. So we will modify the first code by adding the headers to it:"
   ]
  },
  {
   "cell_type": "code",
   "execution_count": 1,
   "metadata": {},
   "outputs": [],
   "source": [
    "import csv\n",
    "\n",
    "with open('employee_file.csv', mode='w') as employee_file:\n",
    "    employee_writer = csv.writer(employee_file, delimiter=',', quotechar='\"', quoting=csv.QUOTE_MINIMAL)\n",
    "\n",
    "    employee_writer.writerow(['emp_name', 'dept', 'birth_month', 'age'])\n",
    "    employee_writer.writerow(['John Smith', 'Accounting', 'November', '27'])\n",
    "    employee_writer.writerow(['Erica Meyers', 'IT', 'March', '31'])"
   ]
  },
  {
   "cell_type": "markdown",
   "metadata": {},
   "source": [
    "<!--NAVIGATION-->\n",
    "<!--NAVIGATION-->\n",
    "< [Exercises](01_20-Exercises.ipynb) | [Contents](Index.ipynb) | [Introduction to NumPy](02_00_Introduction_to_NumPy) >"
   ]
  }
 ],
 "metadata": {
  "kernelspec": {
   "display_name": "Python 3",
   "language": "python",
   "name": "python3"
  },
  "language_info": {
   "codemirror_mode": {
    "name": "ipython",
    "version": 3
   },
   "file_extension": ".py",
   "mimetype": "text/x-python",
   "name": "python",
   "nbconvert_exporter": "python",
   "pygments_lexer": "ipython3",
   "version": "3.6.10"
  }
 },
 "nbformat": 4,
 "nbformat_minor": 2
}
