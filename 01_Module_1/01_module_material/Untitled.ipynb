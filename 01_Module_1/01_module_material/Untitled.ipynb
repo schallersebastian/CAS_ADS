{
 "cells": [
  {
   "cell_type": "code",
   "execution_count": 62,
   "id": "cd12ebba",
   "metadata": {},
   "outputs": [],
   "source": [
    "#loading local stored data (beter option with panada?)\n",
    "import os #importing OperationSystem modul\n",
    "import pandas as pd # importing pandas mdul as pd\n",
    "import numpy as np"
   ]
  },
  {
   "cell_type": "code",
   "execution_count": 63,
   "id": "942e9a76",
   "metadata": {},
   "outputs": [
    {
     "data": {
      "text/plain": [
       "'C:\\\\Users\\\\User\\\\Uni\\\\05_Doktorat\\\\07_BASA\\\\03_MSCL_Data\\\\01_calibartion\\\\01_log'"
      ]
     },
     "execution_count": 63,
     "metadata": {},
     "output_type": "execute_result"
    }
   ],
   "source": [
    "#seting up the working directory to the choosen director (raw string input)\n",
    "abs_path_log=r'C:\\Users\\User\\Uni\\05_Doktorat\\07_BASA\\03_MSCL_Data\\01_calibartion\\01_log'\n",
    "os.chdir(abs_path_log)#seting working directory to the location of the mscl-log\n",
    "os.getcwd()#geting the curent working directory, to check if working in the right directory"
   ]
  },
  {
   "cell_type": "code",
   "execution_count": 87,
   "id": "06515687",
   "metadata": {
    "scrolled": true
   },
   "outputs": [
    {
     "name": "stdout",
     "output_type": "stream",
     "text": [
      "<class 'pandas.core.frame.DataFrame'>\n",
      "RangeIndex: 345 entries, 0 to 344\n",
      "Data columns (total 8 columns):\n",
      " #   Column        Non-Null Count  Dtype  \n",
      "---  ------        --------------  -----  \n",
      " 0   mesurment ID  345 non-null    object \n",
      " 1   Section Nr.   345 non-null    object \n",
      " 2   Core run      345 non-null    object \n",
      " 3   Core-Section  345 non-null    int64  \n",
      " 4   top depth     345 non-null    float64\n",
      " 5   bottom depth  345 non-null    float64\n",
      " 6   Who           345 non-null    object \n",
      " 7   used data     345 non-null    int64  \n",
      "dtypes: float64(2), int64(2), object(4)\n",
      "memory usage: 21.7+ KB\n",
      "None\n"
     ]
    }
   ],
   "source": [
    "ID = '5068_2_A'\n",
    "\n",
    "file_name1 = 'BASA1_mscl_log.csv'\n",
    "df_log = pd.read_csv(file_name1,header=0,names=['mesurment ID','Section Nr.','Core run','Core-Section','top depth',\n",
    "                                                            'bottom depth','Who','used data']) \n",
    " # print data\n",
    "\n",
    "#masking\n",
    "df_log_filtred = df_log[df_log['used data'] == 1]\n",
    "df_log_filtred = df_log_filtred.reset_index(drop = True)\n",
    "\n",
    "\n",
    "\n",
    "df_log_filtred_new = df_log_filtred.copy()\n",
    "df_log_filtred_new[['Section Nr.','Core run','Core-Section']] = df_log_filtred[[\n",
    "    'Section Nr.','Core run','Core-Section']].apply(pd.to_numeric)\n",
    "\n",
    "df_log_filtred_new['section id'] = ID+'_'+(\n",
    "    df_log_filtred_new['Core run'].astype(str)).str.pad(width=3,fillchar='0')+'_'+(\n",
    "    df_log_filtred_new['Core-Section'].astype(str))\n",
    "\n",
    "#df_log.info()\n",
    "print(df_log.info())\n",
    "#display(df_log_filtred.info())\n",
    "#display(df_log_filtred_new.info())\n",
    "\n",
    "#display(df_log_filtred_new[0:20])"
   ]
  },
  {
   "cell_type": "code",
   "execution_count": 59,
   "id": "23d56812",
   "metadata": {},
   "outputs": [
    {
     "name": "stdout",
     "output_type": "stream",
     "text": [
      "['BASA1_20210526_1_pro_ccd.out', 'BASA1_20210526_2_pro_ccd.out', 'BASA1_20210527_1_pro_ccd.out', 'BASA1_20210528_1_pro_ccd.out', 'BASA1_20210531_1_pro_ccd.out', 'BASA1_20210601_1_pro_ccd.out', 'BASA1_20210602_1_pro_ccd.out', 'BASA1_20210604_1_pro_ccd.out', 'BASA1_20210607_1_pro_ccd.out', 'BASA1_20210608_1_pro_ccd.out', 'BASA1_20210609_1_pro_ccd.out', 'BASA1_20210611_1_pro_ccd.out', 'BASA1_20210614_1_pro_ccd.out', 'BASA1_20210615_2_pro_ccd.out', 'BASA1_20210616_1_pro_ccd.out', 'BASA1_20210618_1_pro_ccd.out', 'BASA1_20210621_1_pro_ccd.out', 'BASA1_20210624_1_pro_ccd.out', 'BASA1_20210628_1_pro_ccd.out', 'BASA1_20210629_1_pro_ccd.out', 'BASA1_20210630_1_pro_ccd.out', 'BASA1_20210728_1_pro_ccd.out', 'BASA1_20210729_1_pro_ccd.out', 'BASA1_20210730_1_pro_ccd.out', 'BASA1_20210806_1_pro_ccd.out', 'BASA1_20210809_1_pro_ccd.out', 'BASA1_20210810_1_pro_ccd.out', 'BASA1_20210811_1_pro_ccd.out', 'BASA1_20210812_1_pro_ccd.out', 'BASA1_20210813_1_pro_ccd.out', 'BASA1_20210817_1_pro_ccd.out', 'BASA1_20210818_1_pro_ccd.out', 'BASA1_20210819_1_pro_ccd.out', 'BASA1_20210820_1_pro_ccd.out', 'BASA1_20210824_1_pro_ccd.out', 'BASA1_20210825_1_pro_ccd.out', 'BASA1_20210826_1_pro_ccd.out', 'BASA1_20211006_1_pro_ccd.out', 'BASA1_20211007_1_pro_ccd.out', 'BASA1_20211008_1_pro_ccd.out', 'BASA1_20211013_1_pro_ccd.out']\n"
     ]
    }
   ],
   "source": [
    "#seting up the file paths and loading file names for reading in the MSCL-Data\n",
    "#seting the corect path for the location of the input data\n",
    "#raw string (r'.') containing the absolute directorypath  \n",
    "abs_path_data=r'C:\\Users\\User\\Uni\\05_Doktorat\\07_BASA\\03_MSCL_Data\\03_MSCL_processed\\03_new_file_names'\n",
    "os.chdir(abs_path_data)#seting working directory to the location of the raw data\n",
    "os.getcwd()#geting the curent working directory, to check if working in the right directory\n",
    "\n",
    "#defining used variables and lists \n",
    "#file-list (os.listdir) of curent working directory(os.getcwd)containing the file names of the processed mscl meaurments\n",
    "files_dir = os.listdir(os.getcwd())\n",
    "\n",
    "#qc\n",
    "#printing the list of file names from the aimed folder\n",
    "print(files_dir)#qual control"
   ]
  },
  {
   "cell_type": "code",
   "execution_count": 60,
   "id": "a4d524ee",
   "metadata": {},
   "outputs": [
    {
     "name": "stdout",
     "output_type": "stream",
     "text": [
      "['BASA1_20210526_1' 'BASA1_20210526_2' 'BASA1_20210527_1'\n",
      " 'BASA1_20210528_1' 'BASA1_20210531_1' 'BASA1_20210601_1'\n",
      " 'BASA1_20210602_1' 'BASA1_20210604_1' 'BASA1_20210607_1'\n",
      " 'BASA1_20210608_1' 'BASA1_20210609_1' 'BASA1_20210611_1'\n",
      " 'BASA1_20210614_1' 'BASA1_20210615_2' 'BASA1_20210616_1'\n",
      " 'BASA1_20210618_1' 'BASA1_20210621_1' 'BASA1_20210624_1'\n",
      " 'BASA1_20210628_1' 'BASA1_20210629_1' 'BASA1_20210630_1'\n",
      " 'BASA1_20210728_1' 'BASA1_20210729_1' 'BASA1_20210730_1'\n",
      " 'BASA1_20210806_1' 'BASA1_20210809_1' 'BASA1_20210810_1'\n",
      " 'BASA1_20210811_1' 'BASA1_20210812_1' 'BASA1_20210813_1'\n",
      " 'BASA1_20210817_1' 'BASA1_20210818_1' 'BASA1_20210819_1'\n",
      " 'BASA1_20210820_1' 'BASA1_20210824_1' 'BASA1_20210825_1'\n",
      " 'BASA1_20210826_1' 'BASA1_20211006_1' 'BASA1_20211007_1'\n",
      " 'BASA1_20211008_1' 'BASA1_20211013_1'] [ 1  3  8  2  4 10  6  8  5  3  9  6 10 11  1  8 10 10  4  3 14  4  9  5\n",
      " 11 13 14  5 11  5  6 10  5  2  9  4  4 11  9  2  3]\n"
     ]
    }
   ],
   "source": [
    "counts, values = np.unique(df_log_filtred_new['mesurment ID'],return_counts=True)\n",
    "print(counts, values)"
   ]
  },
  {
   "cell_type": "code",
   "execution_count": 54,
   "id": "f1aa0676",
   "metadata": {},
   "outputs": [
    {
     "ename": "ModuleNotFoundError",
     "evalue": "No module named 'geopandas'",
     "output_type": "error",
     "traceback": [
      "\u001b[1;31m---------------------------------------------------------------------------\u001b[0m",
      "\u001b[1;31mModuleNotFoundError\u001b[0m                       Traceback (most recent call last)",
      "\u001b[1;32m<ipython-input-54-12e31e85d098>\u001b[0m in \u001b[0;36m<module>\u001b[1;34m\u001b[0m\n\u001b[1;32m----> 1\u001b[1;33m \u001b[1;32mimport\u001b[0m \u001b[0mgeopandas\u001b[0m \u001b[1;32mas\u001b[0m \u001b[0mgp\u001b[0m\u001b[1;33m\u001b[0m\u001b[1;33m\u001b[0m\u001b[0m\n\u001b[0m",
      "\u001b[1;31mModuleNotFoundError\u001b[0m: No module named 'geopandas'"
     ]
    }
   ],
   "source": []
  },
  {
   "cell_type": "code",
   "execution_count": null,
   "id": "8f3fbb18",
   "metadata": {},
   "outputs": [],
   "source": []
  }
 ],
 "metadata": {
  "kernelspec": {
   "display_name": "Python 3 (ipykernel)",
   "language": "python",
   "name": "python3"
  },
  "language_info": {
   "codemirror_mode": {
    "name": "ipython",
    "version": 3
   },
   "file_extension": ".py",
   "mimetype": "text/x-python",
   "name": "python",
   "nbconvert_exporter": "python",
   "pygments_lexer": "ipython3",
   "version": "3.9.7"
  }
 },
 "nbformat": 4,
 "nbformat_minor": 5
}
